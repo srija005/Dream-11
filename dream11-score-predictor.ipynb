{
 "cells": [
  {
   "cell_type": "code",
   "execution_count": 1,
   "metadata": {
    "_cell_guid": "b1076dfc-b9ad-4769-8c92-a6c4dae69d19",
    "_uuid": "8f2839f25d086af736a60e9eeb907d3b93b6e0e5",
    "execution": {
     "iopub.execute_input": "2020-10-03T17:14:13.134842Z",
     "iopub.status.busy": "2020-10-03T17:14:13.134053Z",
     "iopub.status.idle": "2020-10-03T17:14:13.142061Z",
     "shell.execute_reply": "2020-10-03T17:14:13.141448Z"
    },
    "papermill": {
     "duration": 0.037409,
     "end_time": "2020-10-03T17:14:13.142170",
     "exception": false,
     "start_time": "2020-10-03T17:14:13.104761",
     "status": "completed"
    },
    "tags": []
   },
   "outputs": [
    {
     "name": "stdout",
     "output_type": "stream",
     "text": [
      "/kaggle/input/ipl/matches.csv\n",
      "/kaggle/input/ipl/deliveries.csv\n",
      "/kaggle/input/saurav/innings-dataset.csv\n"
     ]
    }
   ],
   "source": [
    "# This Python 3 environment comes with many helpful analytics libraries installed\n",
    "# It is defined by the kaggle/python Docker image: https://github.com/kaggle/docker-python\n",
    "# For example, here's several helpful packages to load\n",
    "\n",
    "import numpy as np # linear algebra\n",
    "import pandas as pd # data processing, CSV file I/O (e.g. pd.read_csv)\n",
    "\n",
    "# Input data files are available in the read-only \"../input/\" directory\n",
    "# For example, running this (by clicking run or pressing Shift+Enter) will list all files under the input directory\n",
    "\n",
    "import os\n",
    "for dirname, _, filenames in os.walk('/kaggle/input'):\n",
    "    for filename in filenames:\n",
    "        print(os.path.join(dirname, filename))\n",
    "\n",
    "# You can write up to 5GB to the current directory (/kaggle/working/) that gets preserved as output when you create a version using \"Save & Run All\" \n",
    "# You can also write temporary files to /kaggle/temp/, but they won't be saved outside of the current session"
   ]
  },
  {
   "cell_type": "code",
   "execution_count": 2,
   "metadata": {
    "_cell_guid": "79c7e3d0-c299-4dcb-8224-4455121ee9b0",
    "_uuid": "d629ff2d2480ee46fbb7e2d37f6b5fab8052498a",
    "execution": {
     "iopub.execute_input": "2020-10-03T17:14:13.197241Z",
     "iopub.status.busy": "2020-10-03T17:14:13.196511Z",
     "iopub.status.idle": "2020-10-03T17:14:13.672112Z",
     "shell.execute_reply": "2020-10-03T17:14:13.672676Z"
    },
    "papermill": {
     "duration": 0.505937,
     "end_time": "2020-10-03T17:14:13.672845",
     "exception": false,
     "start_time": "2020-10-03T17:14:13.166908",
     "status": "completed"
    },
    "tags": []
   },
   "outputs": [],
   "source": [
    "match = pd.read_csv('/kaggle/input/ipl/matches.csv')\n",
    "delivery = pd.read_csv('/kaggle/input/ipl/deliveries.csv')\n",
    "innings = pd.read_csv('/kaggle/input/saurav/innings-dataset.csv')"
   ]
  },
  {
   "cell_type": "code",
   "execution_count": 3,
   "metadata": {
    "execution": {
     "iopub.execute_input": "2020-10-03T17:14:13.735150Z",
     "iopub.status.busy": "2020-10-03T17:14:13.734509Z",
     "iopub.status.idle": "2020-10-03T17:14:13.744878Z",
     "shell.execute_reply": "2020-10-03T17:14:13.744441Z"
    },
    "papermill": {
     "duration": 0.049425,
     "end_time": "2020-10-03T17:14:13.744975",
     "exception": false,
     "start_time": "2020-10-03T17:14:13.695550",
     "status": "completed"
    },
    "tags": []
   },
   "outputs": [
    {
     "data": {
      "text/html": [
       "<div>\n",
       "<style scoped>\n",
       "    .dataframe tbody tr th:only-of-type {\n",
       "        vertical-align: middle;\n",
       "    }\n",
       "\n",
       "    .dataframe tbody tr th {\n",
       "        vertical-align: top;\n",
       "    }\n",
       "\n",
       "    .dataframe thead th {\n",
       "        text-align: right;\n",
       "    }\n",
       "</style>\n",
       "<table border=\"1\" class=\"dataframe\">\n",
       "  <thead>\n",
       "    <tr style=\"text-align: right;\">\n",
       "      <th></th>\n",
       "      <th>mid</th>\n",
       "      <th>date</th>\n",
       "      <th>venue</th>\n",
       "      <th>bat_team</th>\n",
       "      <th>bowl_team</th>\n",
       "      <th>batsman</th>\n",
       "      <th>bowler</th>\n",
       "      <th>runs</th>\n",
       "      <th>wickets</th>\n",
       "      <th>overs</th>\n",
       "      <th>runs_last_5</th>\n",
       "      <th>wickets_last_5</th>\n",
       "      <th>striker</th>\n",
       "      <th>non-striker</th>\n",
       "      <th>total</th>\n",
       "    </tr>\n",
       "  </thead>\n",
       "  <tbody>\n",
       "    <tr>\n",
       "      <th>0</th>\n",
       "      <td>1</td>\n",
       "      <td>2008-04-18</td>\n",
       "      <td>M Chinnaswamy Stadium</td>\n",
       "      <td>Kolkata Knight Riders</td>\n",
       "      <td>Royal Challengers Bangalore</td>\n",
       "      <td>SC Ganguly</td>\n",
       "      <td>P Kumar</td>\n",
       "      <td>1</td>\n",
       "      <td>0</td>\n",
       "      <td>0.1</td>\n",
       "      <td>1</td>\n",
       "      <td>0</td>\n",
       "      <td>0</td>\n",
       "      <td>0</td>\n",
       "      <td>222</td>\n",
       "    </tr>\n",
       "    <tr>\n",
       "      <th>1</th>\n",
       "      <td>1</td>\n",
       "      <td>2008-04-18</td>\n",
       "      <td>M Chinnaswamy Stadium</td>\n",
       "      <td>Kolkata Knight Riders</td>\n",
       "      <td>Royal Challengers Bangalore</td>\n",
       "      <td>BB McCullum</td>\n",
       "      <td>P Kumar</td>\n",
       "      <td>1</td>\n",
       "      <td>0</td>\n",
       "      <td>0.2</td>\n",
       "      <td>1</td>\n",
       "      <td>0</td>\n",
       "      <td>0</td>\n",
       "      <td>0</td>\n",
       "      <td>222</td>\n",
       "    </tr>\n",
       "    <tr>\n",
       "      <th>2</th>\n",
       "      <td>1</td>\n",
       "      <td>2008-04-18</td>\n",
       "      <td>M Chinnaswamy Stadium</td>\n",
       "      <td>Kolkata Knight Riders</td>\n",
       "      <td>Royal Challengers Bangalore</td>\n",
       "      <td>BB McCullum</td>\n",
       "      <td>P Kumar</td>\n",
       "      <td>2</td>\n",
       "      <td>0</td>\n",
       "      <td>0.2</td>\n",
       "      <td>2</td>\n",
       "      <td>0</td>\n",
       "      <td>0</td>\n",
       "      <td>0</td>\n",
       "      <td>222</td>\n",
       "    </tr>\n",
       "    <tr>\n",
       "      <th>3</th>\n",
       "      <td>1</td>\n",
       "      <td>2008-04-18</td>\n",
       "      <td>M Chinnaswamy Stadium</td>\n",
       "      <td>Kolkata Knight Riders</td>\n",
       "      <td>Royal Challengers Bangalore</td>\n",
       "      <td>BB McCullum</td>\n",
       "      <td>P Kumar</td>\n",
       "      <td>2</td>\n",
       "      <td>0</td>\n",
       "      <td>0.3</td>\n",
       "      <td>2</td>\n",
       "      <td>0</td>\n",
       "      <td>0</td>\n",
       "      <td>0</td>\n",
       "      <td>222</td>\n",
       "    </tr>\n",
       "    <tr>\n",
       "      <th>4</th>\n",
       "      <td>1</td>\n",
       "      <td>2008-04-18</td>\n",
       "      <td>M Chinnaswamy Stadium</td>\n",
       "      <td>Kolkata Knight Riders</td>\n",
       "      <td>Royal Challengers Bangalore</td>\n",
       "      <td>BB McCullum</td>\n",
       "      <td>P Kumar</td>\n",
       "      <td>2</td>\n",
       "      <td>0</td>\n",
       "      <td>0.4</td>\n",
       "      <td>2</td>\n",
       "      <td>0</td>\n",
       "      <td>0</td>\n",
       "      <td>0</td>\n",
       "      <td>222</td>\n",
       "    </tr>\n",
       "  </tbody>\n",
       "</table>\n",
       "</div>"
      ],
      "text/plain": [
       "   mid        date                  venue               bat_team  \\\n",
       "0    1  2008-04-18  M Chinnaswamy Stadium  Kolkata Knight Riders   \n",
       "1    1  2008-04-18  M Chinnaswamy Stadium  Kolkata Knight Riders   \n",
       "2    1  2008-04-18  M Chinnaswamy Stadium  Kolkata Knight Riders   \n",
       "3    1  2008-04-18  M Chinnaswamy Stadium  Kolkata Knight Riders   \n",
       "4    1  2008-04-18  M Chinnaswamy Stadium  Kolkata Knight Riders   \n",
       "\n",
       "                     bowl_team      batsman   bowler  runs  wickets  overs  \\\n",
       "0  Royal Challengers Bangalore   SC Ganguly  P Kumar     1        0    0.1   \n",
       "1  Royal Challengers Bangalore  BB McCullum  P Kumar     1        0    0.2   \n",
       "2  Royal Challengers Bangalore  BB McCullum  P Kumar     2        0    0.2   \n",
       "3  Royal Challengers Bangalore  BB McCullum  P Kumar     2        0    0.3   \n",
       "4  Royal Challengers Bangalore  BB McCullum  P Kumar     2        0    0.4   \n",
       "\n",
       "   runs_last_5  wickets_last_5  striker  non-striker  total  \n",
       "0            1               0        0            0    222  \n",
       "1            1               0        0            0    222  \n",
       "2            2               0        0            0    222  \n",
       "3            2               0        0            0    222  \n",
       "4            2               0        0            0    222  "
      ]
     },
     "execution_count": 3,
     "metadata": {},
     "output_type": "execute_result"
    }
   ],
   "source": [
    "innings.head()"
   ]
  },
  {
   "cell_type": "code",
   "execution_count": 4,
   "metadata": {
    "execution": {
     "iopub.execute_input": "2020-10-03T17:14:13.813533Z",
     "iopub.status.busy": "2020-10-03T17:14:13.804797Z",
     "iopub.status.idle": "2020-10-03T17:14:13.817897Z",
     "shell.execute_reply": "2020-10-03T17:14:13.817402Z"
    },
    "papermill": {
     "duration": 0.049871,
     "end_time": "2020-10-03T17:14:13.818006",
     "exception": false,
     "start_time": "2020-10-03T17:14:13.768135",
     "status": "completed"
    },
    "tags": []
   },
   "outputs": [
    {
     "data": {
      "text/html": [
       "<div>\n",
       "<style scoped>\n",
       "    .dataframe tbody tr th:only-of-type {\n",
       "        vertical-align: middle;\n",
       "    }\n",
       "\n",
       "    .dataframe tbody tr th {\n",
       "        vertical-align: top;\n",
       "    }\n",
       "\n",
       "    .dataframe thead th {\n",
       "        text-align: right;\n",
       "    }\n",
       "</style>\n",
       "<table border=\"1\" class=\"dataframe\">\n",
       "  <thead>\n",
       "    <tr style=\"text-align: right;\">\n",
       "      <th></th>\n",
       "      <th>match_id</th>\n",
       "      <th>inning</th>\n",
       "      <th>batting_team</th>\n",
       "      <th>bowling_team</th>\n",
       "      <th>over</th>\n",
       "      <th>ball</th>\n",
       "      <th>batsman</th>\n",
       "      <th>non_striker</th>\n",
       "      <th>bowler</th>\n",
       "      <th>is_super_over</th>\n",
       "      <th>...</th>\n",
       "      <th>bye_runs</th>\n",
       "      <th>legbye_runs</th>\n",
       "      <th>noball_runs</th>\n",
       "      <th>penalty_runs</th>\n",
       "      <th>batsman_runs</th>\n",
       "      <th>extra_runs</th>\n",
       "      <th>total_runs</th>\n",
       "      <th>player_dismissed</th>\n",
       "      <th>dismissal_kind</th>\n",
       "      <th>fielder</th>\n",
       "    </tr>\n",
       "  </thead>\n",
       "  <tbody>\n",
       "    <tr>\n",
       "      <th>0</th>\n",
       "      <td>1</td>\n",
       "      <td>1</td>\n",
       "      <td>Sunrisers Hyderabad</td>\n",
       "      <td>Royal Challengers Bangalore</td>\n",
       "      <td>1</td>\n",
       "      <td>1</td>\n",
       "      <td>DA Warner</td>\n",
       "      <td>S Dhawan</td>\n",
       "      <td>TS Mills</td>\n",
       "      <td>0</td>\n",
       "      <td>...</td>\n",
       "      <td>0</td>\n",
       "      <td>0</td>\n",
       "      <td>0</td>\n",
       "      <td>0</td>\n",
       "      <td>0</td>\n",
       "      <td>0</td>\n",
       "      <td>0</td>\n",
       "      <td>NaN</td>\n",
       "      <td>NaN</td>\n",
       "      <td>NaN</td>\n",
       "    </tr>\n",
       "    <tr>\n",
       "      <th>1</th>\n",
       "      <td>1</td>\n",
       "      <td>1</td>\n",
       "      <td>Sunrisers Hyderabad</td>\n",
       "      <td>Royal Challengers Bangalore</td>\n",
       "      <td>1</td>\n",
       "      <td>2</td>\n",
       "      <td>DA Warner</td>\n",
       "      <td>S Dhawan</td>\n",
       "      <td>TS Mills</td>\n",
       "      <td>0</td>\n",
       "      <td>...</td>\n",
       "      <td>0</td>\n",
       "      <td>0</td>\n",
       "      <td>0</td>\n",
       "      <td>0</td>\n",
       "      <td>0</td>\n",
       "      <td>0</td>\n",
       "      <td>0</td>\n",
       "      <td>NaN</td>\n",
       "      <td>NaN</td>\n",
       "      <td>NaN</td>\n",
       "    </tr>\n",
       "    <tr>\n",
       "      <th>2</th>\n",
       "      <td>1</td>\n",
       "      <td>1</td>\n",
       "      <td>Sunrisers Hyderabad</td>\n",
       "      <td>Royal Challengers Bangalore</td>\n",
       "      <td>1</td>\n",
       "      <td>3</td>\n",
       "      <td>DA Warner</td>\n",
       "      <td>S Dhawan</td>\n",
       "      <td>TS Mills</td>\n",
       "      <td>0</td>\n",
       "      <td>...</td>\n",
       "      <td>0</td>\n",
       "      <td>0</td>\n",
       "      <td>0</td>\n",
       "      <td>0</td>\n",
       "      <td>4</td>\n",
       "      <td>0</td>\n",
       "      <td>4</td>\n",
       "      <td>NaN</td>\n",
       "      <td>NaN</td>\n",
       "      <td>NaN</td>\n",
       "    </tr>\n",
       "    <tr>\n",
       "      <th>3</th>\n",
       "      <td>1</td>\n",
       "      <td>1</td>\n",
       "      <td>Sunrisers Hyderabad</td>\n",
       "      <td>Royal Challengers Bangalore</td>\n",
       "      <td>1</td>\n",
       "      <td>4</td>\n",
       "      <td>DA Warner</td>\n",
       "      <td>S Dhawan</td>\n",
       "      <td>TS Mills</td>\n",
       "      <td>0</td>\n",
       "      <td>...</td>\n",
       "      <td>0</td>\n",
       "      <td>0</td>\n",
       "      <td>0</td>\n",
       "      <td>0</td>\n",
       "      <td>0</td>\n",
       "      <td>0</td>\n",
       "      <td>0</td>\n",
       "      <td>NaN</td>\n",
       "      <td>NaN</td>\n",
       "      <td>NaN</td>\n",
       "    </tr>\n",
       "    <tr>\n",
       "      <th>4</th>\n",
       "      <td>1</td>\n",
       "      <td>1</td>\n",
       "      <td>Sunrisers Hyderabad</td>\n",
       "      <td>Royal Challengers Bangalore</td>\n",
       "      <td>1</td>\n",
       "      <td>5</td>\n",
       "      <td>DA Warner</td>\n",
       "      <td>S Dhawan</td>\n",
       "      <td>TS Mills</td>\n",
       "      <td>0</td>\n",
       "      <td>...</td>\n",
       "      <td>0</td>\n",
       "      <td>0</td>\n",
       "      <td>0</td>\n",
       "      <td>0</td>\n",
       "      <td>0</td>\n",
       "      <td>2</td>\n",
       "      <td>2</td>\n",
       "      <td>NaN</td>\n",
       "      <td>NaN</td>\n",
       "      <td>NaN</td>\n",
       "    </tr>\n",
       "  </tbody>\n",
       "</table>\n",
       "<p>5 rows × 21 columns</p>\n",
       "</div>"
      ],
      "text/plain": [
       "   match_id  inning         batting_team                 bowling_team  over  \\\n",
       "0         1       1  Sunrisers Hyderabad  Royal Challengers Bangalore     1   \n",
       "1         1       1  Sunrisers Hyderabad  Royal Challengers Bangalore     1   \n",
       "2         1       1  Sunrisers Hyderabad  Royal Challengers Bangalore     1   \n",
       "3         1       1  Sunrisers Hyderabad  Royal Challengers Bangalore     1   \n",
       "4         1       1  Sunrisers Hyderabad  Royal Challengers Bangalore     1   \n",
       "\n",
       "   ball    batsman non_striker    bowler  is_super_over  ...  bye_runs  \\\n",
       "0     1  DA Warner    S Dhawan  TS Mills              0  ...         0   \n",
       "1     2  DA Warner    S Dhawan  TS Mills              0  ...         0   \n",
       "2     3  DA Warner    S Dhawan  TS Mills              0  ...         0   \n",
       "3     4  DA Warner    S Dhawan  TS Mills              0  ...         0   \n",
       "4     5  DA Warner    S Dhawan  TS Mills              0  ...         0   \n",
       "\n",
       "   legbye_runs  noball_runs  penalty_runs  batsman_runs  extra_runs  \\\n",
       "0            0            0             0             0           0   \n",
       "1            0            0             0             0           0   \n",
       "2            0            0             0             4           0   \n",
       "3            0            0             0             0           0   \n",
       "4            0            0             0             0           2   \n",
       "\n",
       "   total_runs  player_dismissed dismissal_kind fielder  \n",
       "0           0               NaN            NaN     NaN  \n",
       "1           0               NaN            NaN     NaN  \n",
       "2           4               NaN            NaN     NaN  \n",
       "3           0               NaN            NaN     NaN  \n",
       "4           2               NaN            NaN     NaN  \n",
       "\n",
       "[5 rows x 21 columns]"
      ]
     },
     "execution_count": 4,
     "metadata": {},
     "output_type": "execute_result"
    }
   ],
   "source": [
    "delivery.head()"
   ]
  },
  {
   "cell_type": "code",
   "execution_count": 5,
   "metadata": {
    "execution": {
     "iopub.execute_input": "2020-10-03T17:14:13.874677Z",
     "iopub.status.busy": "2020-10-03T17:14:13.874015Z",
     "iopub.status.idle": "2020-10-03T17:14:14.033917Z",
     "shell.execute_reply": "2020-10-03T17:14:14.033283Z"
    },
    "papermill": {
     "duration": 0.192554,
     "end_time": "2020-10-03T17:14:14.034034",
     "exception": false,
     "start_time": "2020-10-03T17:14:13.841480",
     "status": "completed"
    },
    "tags": []
   },
   "outputs": [],
   "source": [
    "delivery = delivery.merge(match,left_on = \"match_id\",right_on=\"id\")"
   ]
  },
  {
   "cell_type": "code",
   "execution_count": 6,
   "metadata": {
    "execution": {
     "iopub.execute_input": "2020-10-03T17:14:14.088162Z",
     "iopub.status.busy": "2020-10-03T17:14:14.087564Z",
     "iopub.status.idle": "2020-10-03T17:14:14.110272Z",
     "shell.execute_reply": "2020-10-03T17:14:14.110683Z"
    },
    "papermill": {
     "duration": 0.053132,
     "end_time": "2020-10-03T17:14:14.110821",
     "exception": false,
     "start_time": "2020-10-03T17:14:14.057689",
     "status": "completed"
    },
    "tags": []
   },
   "outputs": [
    {
     "data": {
      "text/html": [
       "<div>\n",
       "<style scoped>\n",
       "    .dataframe tbody tr th:only-of-type {\n",
       "        vertical-align: middle;\n",
       "    }\n",
       "\n",
       "    .dataframe tbody tr th {\n",
       "        vertical-align: top;\n",
       "    }\n",
       "\n",
       "    .dataframe thead th {\n",
       "        text-align: right;\n",
       "    }\n",
       "</style>\n",
       "<table border=\"1\" class=\"dataframe\">\n",
       "  <thead>\n",
       "    <tr style=\"text-align: right;\">\n",
       "      <th></th>\n",
       "      <th>match_id</th>\n",
       "      <th>inning</th>\n",
       "      <th>batting_team</th>\n",
       "      <th>bowling_team</th>\n",
       "      <th>over</th>\n",
       "      <th>ball</th>\n",
       "      <th>batsman</th>\n",
       "      <th>non_striker</th>\n",
       "      <th>bowler</th>\n",
       "      <th>is_super_over</th>\n",
       "      <th>...</th>\n",
       "      <th>result</th>\n",
       "      <th>dl_applied</th>\n",
       "      <th>winner</th>\n",
       "      <th>win_by_runs</th>\n",
       "      <th>win_by_wickets</th>\n",
       "      <th>player_of_match</th>\n",
       "      <th>venue</th>\n",
       "      <th>umpire1</th>\n",
       "      <th>umpire2</th>\n",
       "      <th>umpire3</th>\n",
       "    </tr>\n",
       "  </thead>\n",
       "  <tbody>\n",
       "    <tr>\n",
       "      <th>0</th>\n",
       "      <td>1</td>\n",
       "      <td>1</td>\n",
       "      <td>Sunrisers Hyderabad</td>\n",
       "      <td>Royal Challengers Bangalore</td>\n",
       "      <td>1</td>\n",
       "      <td>1</td>\n",
       "      <td>DA Warner</td>\n",
       "      <td>S Dhawan</td>\n",
       "      <td>TS Mills</td>\n",
       "      <td>0</td>\n",
       "      <td>...</td>\n",
       "      <td>normal</td>\n",
       "      <td>0</td>\n",
       "      <td>Sunrisers Hyderabad</td>\n",
       "      <td>35</td>\n",
       "      <td>0</td>\n",
       "      <td>Yuvraj Singh</td>\n",
       "      <td>Rajiv Gandhi International Stadium, Uppal</td>\n",
       "      <td>AY Dandekar</td>\n",
       "      <td>NJ Llong</td>\n",
       "      <td>NaN</td>\n",
       "    </tr>\n",
       "    <tr>\n",
       "      <th>1</th>\n",
       "      <td>1</td>\n",
       "      <td>1</td>\n",
       "      <td>Sunrisers Hyderabad</td>\n",
       "      <td>Royal Challengers Bangalore</td>\n",
       "      <td>1</td>\n",
       "      <td>2</td>\n",
       "      <td>DA Warner</td>\n",
       "      <td>S Dhawan</td>\n",
       "      <td>TS Mills</td>\n",
       "      <td>0</td>\n",
       "      <td>...</td>\n",
       "      <td>normal</td>\n",
       "      <td>0</td>\n",
       "      <td>Sunrisers Hyderabad</td>\n",
       "      <td>35</td>\n",
       "      <td>0</td>\n",
       "      <td>Yuvraj Singh</td>\n",
       "      <td>Rajiv Gandhi International Stadium, Uppal</td>\n",
       "      <td>AY Dandekar</td>\n",
       "      <td>NJ Llong</td>\n",
       "      <td>NaN</td>\n",
       "    </tr>\n",
       "    <tr>\n",
       "      <th>2</th>\n",
       "      <td>1</td>\n",
       "      <td>1</td>\n",
       "      <td>Sunrisers Hyderabad</td>\n",
       "      <td>Royal Challengers Bangalore</td>\n",
       "      <td>1</td>\n",
       "      <td>3</td>\n",
       "      <td>DA Warner</td>\n",
       "      <td>S Dhawan</td>\n",
       "      <td>TS Mills</td>\n",
       "      <td>0</td>\n",
       "      <td>...</td>\n",
       "      <td>normal</td>\n",
       "      <td>0</td>\n",
       "      <td>Sunrisers Hyderabad</td>\n",
       "      <td>35</td>\n",
       "      <td>0</td>\n",
       "      <td>Yuvraj Singh</td>\n",
       "      <td>Rajiv Gandhi International Stadium, Uppal</td>\n",
       "      <td>AY Dandekar</td>\n",
       "      <td>NJ Llong</td>\n",
       "      <td>NaN</td>\n",
       "    </tr>\n",
       "    <tr>\n",
       "      <th>3</th>\n",
       "      <td>1</td>\n",
       "      <td>1</td>\n",
       "      <td>Sunrisers Hyderabad</td>\n",
       "      <td>Royal Challengers Bangalore</td>\n",
       "      <td>1</td>\n",
       "      <td>4</td>\n",
       "      <td>DA Warner</td>\n",
       "      <td>S Dhawan</td>\n",
       "      <td>TS Mills</td>\n",
       "      <td>0</td>\n",
       "      <td>...</td>\n",
       "      <td>normal</td>\n",
       "      <td>0</td>\n",
       "      <td>Sunrisers Hyderabad</td>\n",
       "      <td>35</td>\n",
       "      <td>0</td>\n",
       "      <td>Yuvraj Singh</td>\n",
       "      <td>Rajiv Gandhi International Stadium, Uppal</td>\n",
       "      <td>AY Dandekar</td>\n",
       "      <td>NJ Llong</td>\n",
       "      <td>NaN</td>\n",
       "    </tr>\n",
       "    <tr>\n",
       "      <th>4</th>\n",
       "      <td>1</td>\n",
       "      <td>1</td>\n",
       "      <td>Sunrisers Hyderabad</td>\n",
       "      <td>Royal Challengers Bangalore</td>\n",
       "      <td>1</td>\n",
       "      <td>5</td>\n",
       "      <td>DA Warner</td>\n",
       "      <td>S Dhawan</td>\n",
       "      <td>TS Mills</td>\n",
       "      <td>0</td>\n",
       "      <td>...</td>\n",
       "      <td>normal</td>\n",
       "      <td>0</td>\n",
       "      <td>Sunrisers Hyderabad</td>\n",
       "      <td>35</td>\n",
       "      <td>0</td>\n",
       "      <td>Yuvraj Singh</td>\n",
       "      <td>Rajiv Gandhi International Stadium, Uppal</td>\n",
       "      <td>AY Dandekar</td>\n",
       "      <td>NJ Llong</td>\n",
       "      <td>NaN</td>\n",
       "    </tr>\n",
       "  </tbody>\n",
       "</table>\n",
       "<p>5 rows × 39 columns</p>\n",
       "</div>"
      ],
      "text/plain": [
       "   match_id  inning         batting_team                 bowling_team  over  \\\n",
       "0         1       1  Sunrisers Hyderabad  Royal Challengers Bangalore     1   \n",
       "1         1       1  Sunrisers Hyderabad  Royal Challengers Bangalore     1   \n",
       "2         1       1  Sunrisers Hyderabad  Royal Challengers Bangalore     1   \n",
       "3         1       1  Sunrisers Hyderabad  Royal Challengers Bangalore     1   \n",
       "4         1       1  Sunrisers Hyderabad  Royal Challengers Bangalore     1   \n",
       "\n",
       "   ball    batsman non_striker    bowler  is_super_over  ...  result  \\\n",
       "0     1  DA Warner    S Dhawan  TS Mills              0  ...  normal   \n",
       "1     2  DA Warner    S Dhawan  TS Mills              0  ...  normal   \n",
       "2     3  DA Warner    S Dhawan  TS Mills              0  ...  normal   \n",
       "3     4  DA Warner    S Dhawan  TS Mills              0  ...  normal   \n",
       "4     5  DA Warner    S Dhawan  TS Mills              0  ...  normal   \n",
       "\n",
       "   dl_applied               winner  win_by_runs  win_by_wickets  \\\n",
       "0           0  Sunrisers Hyderabad           35               0   \n",
       "1           0  Sunrisers Hyderabad           35               0   \n",
       "2           0  Sunrisers Hyderabad           35               0   \n",
       "3           0  Sunrisers Hyderabad           35               0   \n",
       "4           0  Sunrisers Hyderabad           35               0   \n",
       "\n",
       "   player_of_match                                      venue      umpire1  \\\n",
       "0     Yuvraj Singh  Rajiv Gandhi International Stadium, Uppal  AY Dandekar   \n",
       "1     Yuvraj Singh  Rajiv Gandhi International Stadium, Uppal  AY Dandekar   \n",
       "2     Yuvraj Singh  Rajiv Gandhi International Stadium, Uppal  AY Dandekar   \n",
       "3     Yuvraj Singh  Rajiv Gandhi International Stadium, Uppal  AY Dandekar   \n",
       "4     Yuvraj Singh  Rajiv Gandhi International Stadium, Uppal  AY Dandekar   \n",
       "\n",
       "    umpire2 umpire3  \n",
       "0  NJ Llong     NaN  \n",
       "1  NJ Llong     NaN  \n",
       "2  NJ Llong     NaN  \n",
       "3  NJ Llong     NaN  \n",
       "4  NJ Llong     NaN  \n",
       "\n",
       "[5 rows x 39 columns]"
      ]
     },
     "execution_count": 6,
     "metadata": {},
     "output_type": "execute_result"
    }
   ],
   "source": [
    "delivery.head()"
   ]
  },
  {
   "cell_type": "code",
   "execution_count": 7,
   "metadata": {
    "execution": {
     "iopub.execute_input": "2020-10-03T17:14:14.164400Z",
     "iopub.status.busy": "2020-10-03T17:14:14.163610Z",
     "iopub.status.idle": "2020-10-03T17:14:14.310623Z",
     "shell.execute_reply": "2020-10-03T17:14:14.309908Z"
    },
    "papermill": {
     "duration": 0.176069,
     "end_time": "2020-10-03T17:14:14.310786",
     "exception": false,
     "start_time": "2020-10-03T17:14:14.134717",
     "status": "completed"
    },
    "tags": []
   },
   "outputs": [],
   "source": [
    "delivery = delivery[delivery['inning']==1]"
   ]
  },
  {
   "cell_type": "code",
   "execution_count": 8,
   "metadata": {
    "execution": {
     "iopub.execute_input": "2020-10-03T17:14:14.374744Z",
     "iopub.status.busy": "2020-10-03T17:14:14.373866Z",
     "iopub.status.idle": "2020-10-03T17:14:14.389096Z",
     "shell.execute_reply": "2020-10-03T17:14:14.388609Z"
    },
    "papermill": {
     "duration": 0.054203,
     "end_time": "2020-10-03T17:14:14.389209",
     "exception": false,
     "start_time": "2020-10-03T17:14:14.335006",
     "status": "completed"
    },
    "tags": []
   },
   "outputs": [
    {
     "data": {
      "text/html": [
       "<div>\n",
       "<style scoped>\n",
       "    .dataframe tbody tr th:only-of-type {\n",
       "        vertical-align: middle;\n",
       "    }\n",
       "\n",
       "    .dataframe tbody tr th {\n",
       "        vertical-align: top;\n",
       "    }\n",
       "\n",
       "    .dataframe thead th {\n",
       "        text-align: right;\n",
       "    }\n",
       "</style>\n",
       "<table border=\"1\" class=\"dataframe\">\n",
       "  <thead>\n",
       "    <tr style=\"text-align: right;\">\n",
       "      <th></th>\n",
       "      <th>match_id</th>\n",
       "      <th>inning</th>\n",
       "      <th>batting_team</th>\n",
       "      <th>bowling_team</th>\n",
       "      <th>over</th>\n",
       "      <th>ball</th>\n",
       "      <th>batsman</th>\n",
       "      <th>non_striker</th>\n",
       "      <th>bowler</th>\n",
       "      <th>is_super_over</th>\n",
       "      <th>...</th>\n",
       "      <th>result</th>\n",
       "      <th>dl_applied</th>\n",
       "      <th>winner</th>\n",
       "      <th>win_by_runs</th>\n",
       "      <th>win_by_wickets</th>\n",
       "      <th>player_of_match</th>\n",
       "      <th>venue</th>\n",
       "      <th>umpire1</th>\n",
       "      <th>umpire2</th>\n",
       "      <th>umpire3</th>\n",
       "    </tr>\n",
       "  </thead>\n",
       "  <tbody>\n",
       "    <tr>\n",
       "      <th>0</th>\n",
       "      <td>1</td>\n",
       "      <td>1</td>\n",
       "      <td>Sunrisers Hyderabad</td>\n",
       "      <td>Royal Challengers Bangalore</td>\n",
       "      <td>1</td>\n",
       "      <td>1</td>\n",
       "      <td>DA Warner</td>\n",
       "      <td>S Dhawan</td>\n",
       "      <td>TS Mills</td>\n",
       "      <td>0</td>\n",
       "      <td>...</td>\n",
       "      <td>normal</td>\n",
       "      <td>0</td>\n",
       "      <td>Sunrisers Hyderabad</td>\n",
       "      <td>35</td>\n",
       "      <td>0</td>\n",
       "      <td>Yuvraj Singh</td>\n",
       "      <td>Rajiv Gandhi International Stadium, Uppal</td>\n",
       "      <td>AY Dandekar</td>\n",
       "      <td>NJ Llong</td>\n",
       "      <td>NaN</td>\n",
       "    </tr>\n",
       "    <tr>\n",
       "      <th>1</th>\n",
       "      <td>1</td>\n",
       "      <td>1</td>\n",
       "      <td>Sunrisers Hyderabad</td>\n",
       "      <td>Royal Challengers Bangalore</td>\n",
       "      <td>1</td>\n",
       "      <td>2</td>\n",
       "      <td>DA Warner</td>\n",
       "      <td>S Dhawan</td>\n",
       "      <td>TS Mills</td>\n",
       "      <td>0</td>\n",
       "      <td>...</td>\n",
       "      <td>normal</td>\n",
       "      <td>0</td>\n",
       "      <td>Sunrisers Hyderabad</td>\n",
       "      <td>35</td>\n",
       "      <td>0</td>\n",
       "      <td>Yuvraj Singh</td>\n",
       "      <td>Rajiv Gandhi International Stadium, Uppal</td>\n",
       "      <td>AY Dandekar</td>\n",
       "      <td>NJ Llong</td>\n",
       "      <td>NaN</td>\n",
       "    </tr>\n",
       "    <tr>\n",
       "      <th>2</th>\n",
       "      <td>1</td>\n",
       "      <td>1</td>\n",
       "      <td>Sunrisers Hyderabad</td>\n",
       "      <td>Royal Challengers Bangalore</td>\n",
       "      <td>1</td>\n",
       "      <td>3</td>\n",
       "      <td>DA Warner</td>\n",
       "      <td>S Dhawan</td>\n",
       "      <td>TS Mills</td>\n",
       "      <td>0</td>\n",
       "      <td>...</td>\n",
       "      <td>normal</td>\n",
       "      <td>0</td>\n",
       "      <td>Sunrisers Hyderabad</td>\n",
       "      <td>35</td>\n",
       "      <td>0</td>\n",
       "      <td>Yuvraj Singh</td>\n",
       "      <td>Rajiv Gandhi International Stadium, Uppal</td>\n",
       "      <td>AY Dandekar</td>\n",
       "      <td>NJ Llong</td>\n",
       "      <td>NaN</td>\n",
       "    </tr>\n",
       "    <tr>\n",
       "      <th>3</th>\n",
       "      <td>1</td>\n",
       "      <td>1</td>\n",
       "      <td>Sunrisers Hyderabad</td>\n",
       "      <td>Royal Challengers Bangalore</td>\n",
       "      <td>1</td>\n",
       "      <td>4</td>\n",
       "      <td>DA Warner</td>\n",
       "      <td>S Dhawan</td>\n",
       "      <td>TS Mills</td>\n",
       "      <td>0</td>\n",
       "      <td>...</td>\n",
       "      <td>normal</td>\n",
       "      <td>0</td>\n",
       "      <td>Sunrisers Hyderabad</td>\n",
       "      <td>35</td>\n",
       "      <td>0</td>\n",
       "      <td>Yuvraj Singh</td>\n",
       "      <td>Rajiv Gandhi International Stadium, Uppal</td>\n",
       "      <td>AY Dandekar</td>\n",
       "      <td>NJ Llong</td>\n",
       "      <td>NaN</td>\n",
       "    </tr>\n",
       "    <tr>\n",
       "      <th>4</th>\n",
       "      <td>1</td>\n",
       "      <td>1</td>\n",
       "      <td>Sunrisers Hyderabad</td>\n",
       "      <td>Royal Challengers Bangalore</td>\n",
       "      <td>1</td>\n",
       "      <td>5</td>\n",
       "      <td>DA Warner</td>\n",
       "      <td>S Dhawan</td>\n",
       "      <td>TS Mills</td>\n",
       "      <td>0</td>\n",
       "      <td>...</td>\n",
       "      <td>normal</td>\n",
       "      <td>0</td>\n",
       "      <td>Sunrisers Hyderabad</td>\n",
       "      <td>35</td>\n",
       "      <td>0</td>\n",
       "      <td>Yuvraj Singh</td>\n",
       "      <td>Rajiv Gandhi International Stadium, Uppal</td>\n",
       "      <td>AY Dandekar</td>\n",
       "      <td>NJ Llong</td>\n",
       "      <td>NaN</td>\n",
       "    </tr>\n",
       "  </tbody>\n",
       "</table>\n",
       "<p>5 rows × 39 columns</p>\n",
       "</div>"
      ],
      "text/plain": [
       "   match_id  inning         batting_team                 bowling_team  over  \\\n",
       "0         1       1  Sunrisers Hyderabad  Royal Challengers Bangalore     1   \n",
       "1         1       1  Sunrisers Hyderabad  Royal Challengers Bangalore     1   \n",
       "2         1       1  Sunrisers Hyderabad  Royal Challengers Bangalore     1   \n",
       "3         1       1  Sunrisers Hyderabad  Royal Challengers Bangalore     1   \n",
       "4         1       1  Sunrisers Hyderabad  Royal Challengers Bangalore     1   \n",
       "\n",
       "   ball    batsman non_striker    bowler  is_super_over  ...  result  \\\n",
       "0     1  DA Warner    S Dhawan  TS Mills              0  ...  normal   \n",
       "1     2  DA Warner    S Dhawan  TS Mills              0  ...  normal   \n",
       "2     3  DA Warner    S Dhawan  TS Mills              0  ...  normal   \n",
       "3     4  DA Warner    S Dhawan  TS Mills              0  ...  normal   \n",
       "4     5  DA Warner    S Dhawan  TS Mills              0  ...  normal   \n",
       "\n",
       "   dl_applied               winner  win_by_runs  win_by_wickets  \\\n",
       "0           0  Sunrisers Hyderabad           35               0   \n",
       "1           0  Sunrisers Hyderabad           35               0   \n",
       "2           0  Sunrisers Hyderabad           35               0   \n",
       "3           0  Sunrisers Hyderabad           35               0   \n",
       "4           0  Sunrisers Hyderabad           35               0   \n",
       "\n",
       "   player_of_match                                      venue      umpire1  \\\n",
       "0     Yuvraj Singh  Rajiv Gandhi International Stadium, Uppal  AY Dandekar   \n",
       "1     Yuvraj Singh  Rajiv Gandhi International Stadium, Uppal  AY Dandekar   \n",
       "2     Yuvraj Singh  Rajiv Gandhi International Stadium, Uppal  AY Dandekar   \n",
       "3     Yuvraj Singh  Rajiv Gandhi International Stadium, Uppal  AY Dandekar   \n",
       "4     Yuvraj Singh  Rajiv Gandhi International Stadium, Uppal  AY Dandekar   \n",
       "\n",
       "    umpire2 umpire3  \n",
       "0  NJ Llong     NaN  \n",
       "1  NJ Llong     NaN  \n",
       "2  NJ Llong     NaN  \n",
       "3  NJ Llong     NaN  \n",
       "4  NJ Llong     NaN  \n",
       "\n",
       "[5 rows x 39 columns]"
      ]
     },
     "execution_count": 8,
     "metadata": {},
     "output_type": "execute_result"
    }
   ],
   "source": [
    "delivery.head()"
   ]
  },
  {
   "cell_type": "code",
   "execution_count": 9,
   "metadata": {
    "execution": {
     "iopub.execute_input": "2020-10-03T17:14:14.465047Z",
     "iopub.status.busy": "2020-10-03T17:14:14.449914Z",
     "iopub.status.idle": "2020-10-03T17:14:14.488720Z",
     "shell.execute_reply": "2020-10-03T17:14:14.488132Z"
    },
    "papermill": {
     "duration": 0.074603,
     "end_time": "2020-10-03T17:14:14.488827",
     "exception": false,
     "start_time": "2020-10-03T17:14:14.414224",
     "status": "completed"
    },
    "tags": []
   },
   "outputs": [],
   "source": [
    "runs_per_stadium = delivery.groupby('venue').sum()['total_runs']"
   ]
  },
  {
   "cell_type": "code",
   "execution_count": 10,
   "metadata": {
    "execution": {
     "iopub.execute_input": "2020-10-03T17:14:14.545129Z",
     "iopub.status.busy": "2020-10-03T17:14:14.544197Z",
     "iopub.status.idle": "2020-10-03T17:14:14.547385Z",
     "shell.execute_reply": "2020-10-03T17:14:14.546911Z"
    },
    "papermill": {
     "duration": 0.033623,
     "end_time": "2020-10-03T17:14:14.547492",
     "exception": false,
     "start_time": "2020-10-03T17:14:14.513869",
     "status": "completed"
    },
    "tags": []
   },
   "outputs": [],
   "source": [
    "match_per_stadium = match['venue'].value_counts()"
   ]
  },
  {
   "cell_type": "code",
   "execution_count": 11,
   "metadata": {
    "execution": {
     "iopub.execute_input": "2020-10-03T17:14:14.603282Z",
     "iopub.status.busy": "2020-10-03T17:14:14.602684Z",
     "iopub.status.idle": "2020-10-03T17:14:14.605824Z",
     "shell.execute_reply": "2020-10-03T17:14:14.605190Z"
    },
    "papermill": {
     "duration": 0.033924,
     "end_time": "2020-10-03T17:14:14.605943",
     "exception": false,
     "start_time": "2020-10-03T17:14:14.572019",
     "status": "completed"
    },
    "tags": []
   },
   "outputs": [],
   "source": [
    "avg_score_stadium = runs_per_stadium/match_per_stadium"
   ]
  },
  {
   "cell_type": "code",
   "execution_count": 12,
   "metadata": {
    "execution": {
     "iopub.execute_input": "2020-10-03T17:14:14.667005Z",
     "iopub.status.busy": "2020-10-03T17:14:14.666104Z",
     "iopub.status.idle": "2020-10-03T17:14:14.670205Z",
     "shell.execute_reply": "2020-10-03T17:14:14.670673Z"
    },
    "papermill": {
     "duration": 0.040051,
     "end_time": "2020-10-03T17:14:14.670823",
     "exception": false,
     "start_time": "2020-10-03T17:14:14.630772",
     "status": "completed"
    },
    "tags": []
   },
   "outputs": [
    {
     "data": {
      "text/plain": [
       "Barabati Stadium                                        167.714286\n",
       "Brabourne Stadium                                       180.363636\n",
       "Buffalo Park                                            147.333333\n",
       "De Beers Diamond Oval                                   158.000000\n",
       "Dr DY Patil Sports Academy                              146.647059\n",
       "Dr. Y.S. Rajasekhara Reddy ACA-VDCA Cricket Stadium     158.000000\n",
       "Dubai International Cricket Stadium                     148.857143\n",
       "Eden Gardens                                            154.081967\n",
       "Feroz Shah Kotla                                        161.633333\n",
       "Green Park                                              161.250000\n",
       "Himachal Pradesh Cricket Association Stadium            175.666667\n",
       "Holkar Cricket Stadium                                  156.800000\n",
       "JSCA International Stadium Complex                      149.000000\n",
       "Kingsmead                                               152.000000\n",
       "M Chinnaswamy Stadium                                   167.893939\n",
       "MA Chidambaram Stadium, Chepauk                         166.020833\n",
       "Maharashtra Cricket Association Stadium                 166.600000\n",
       "Nehru Stadium                                           146.800000\n",
       "New Wanderers Stadium                                   144.000000\n",
       "Newlands                                                139.428571\n",
       "OUTsurance Oval                                         135.000000\n",
       "Punjab Cricket Association IS Bindra Stadium, Mohali    164.090909\n",
       "Punjab Cricket Association Stadium, Mohali              163.285714\n",
       "Rajiv Gandhi International Stadium, Uppal               156.142857\n",
       "Sardar Patel Stadium, Motera                            163.166667\n",
       "Saurashtra Cricket Association Stadium                  168.900000\n",
       "Sawai Mansingh Stadium                                  155.696970\n",
       "Shaheed Veer Narayan Singh International Stadium        146.333333\n",
       "Sharjah Cricket Stadium                                 158.166667\n",
       "Sheikh Zayed Stadium                                    147.428571\n",
       "St George's Park                                        159.000000\n",
       "Subrata Roy Sahara Stadium                              147.647059\n",
       "SuperSport Park                                         154.833333\n",
       "Vidarbha Cricket Association Stadium, Jamtha            149.333333\n",
       "Wankhede Stadium                                        163.947368\n",
       "dtype: float64"
      ]
     },
     "execution_count": 12,
     "metadata": {},
     "output_type": "execute_result"
    }
   ],
   "source": [
    "avg_score_stadium"
   ]
  },
  {
   "cell_type": "code",
   "execution_count": 13,
   "metadata": {
    "execution": {
     "iopub.execute_input": "2020-10-03T17:14:14.730143Z",
     "iopub.status.busy": "2020-10-03T17:14:14.729159Z",
     "iopub.status.idle": "2020-10-03T17:14:14.737895Z",
     "shell.execute_reply": "2020-10-03T17:14:14.737214Z"
    },
    "papermill": {
     "duration": 0.03967,
     "end_time": "2020-10-03T17:14:14.738014",
     "exception": false,
     "start_time": "2020-10-03T17:14:14.698344",
     "status": "completed"
    },
    "tags": []
   },
   "outputs": [],
   "source": [
    "avg_score_stadium = avg_score_stadium.reset_index()"
   ]
  },
  {
   "cell_type": "code",
   "execution_count": 14,
   "metadata": {
    "execution": {
     "iopub.execute_input": "2020-10-03T17:14:14.794718Z",
     "iopub.status.busy": "2020-10-03T17:14:14.794023Z",
     "iopub.status.idle": "2020-10-03T17:14:14.796939Z",
     "shell.execute_reply": "2020-10-03T17:14:14.796520Z"
    },
    "papermill": {
     "duration": 0.033846,
     "end_time": "2020-10-03T17:14:14.797042",
     "exception": false,
     "start_time": "2020-10-03T17:14:14.763196",
     "status": "completed"
    },
    "tags": []
   },
   "outputs": [],
   "source": [
    "avg_score_stadium.rename(columns={'index':'venue',0:'avg_score_stadium'},inplace=True)"
   ]
  },
  {
   "cell_type": "code",
   "execution_count": 15,
   "metadata": {
    "execution": {
     "iopub.execute_input": "2020-10-03T17:14:14.855850Z",
     "iopub.status.busy": "2020-10-03T17:14:14.855165Z",
     "iopub.status.idle": "2020-10-03T17:14:14.859159Z",
     "shell.execute_reply": "2020-10-03T17:14:14.858689Z"
    },
    "papermill": {
     "duration": 0.036948,
     "end_time": "2020-10-03T17:14:14.859265",
     "exception": false,
     "start_time": "2020-10-03T17:14:14.822317",
     "status": "completed"
    },
    "tags": []
   },
   "outputs": [
    {
     "data": {
      "text/html": [
       "<div>\n",
       "<style scoped>\n",
       "    .dataframe tbody tr th:only-of-type {\n",
       "        vertical-align: middle;\n",
       "    }\n",
       "\n",
       "    .dataframe tbody tr th {\n",
       "        vertical-align: top;\n",
       "    }\n",
       "\n",
       "    .dataframe thead th {\n",
       "        text-align: right;\n",
       "    }\n",
       "</style>\n",
       "<table border=\"1\" class=\"dataframe\">\n",
       "  <thead>\n",
       "    <tr style=\"text-align: right;\">\n",
       "      <th></th>\n",
       "      <th>venue</th>\n",
       "      <th>avg_score_stadium</th>\n",
       "    </tr>\n",
       "  </thead>\n",
       "  <tbody>\n",
       "    <tr>\n",
       "      <th>0</th>\n",
       "      <td>Barabati Stadium</td>\n",
       "      <td>167.714286</td>\n",
       "    </tr>\n",
       "    <tr>\n",
       "      <th>1</th>\n",
       "      <td>Brabourne Stadium</td>\n",
       "      <td>180.363636</td>\n",
       "    </tr>\n",
       "    <tr>\n",
       "      <th>2</th>\n",
       "      <td>Buffalo Park</td>\n",
       "      <td>147.333333</td>\n",
       "    </tr>\n",
       "    <tr>\n",
       "      <th>3</th>\n",
       "      <td>De Beers Diamond Oval</td>\n",
       "      <td>158.000000</td>\n",
       "    </tr>\n",
       "    <tr>\n",
       "      <th>4</th>\n",
       "      <td>Dr DY Patil Sports Academy</td>\n",
       "      <td>146.647059</td>\n",
       "    </tr>\n",
       "  </tbody>\n",
       "</table>\n",
       "</div>"
      ],
      "text/plain": [
       "                        venue  avg_score_stadium\n",
       "0            Barabati Stadium         167.714286\n",
       "1           Brabourne Stadium         180.363636\n",
       "2                Buffalo Park         147.333333\n",
       "3       De Beers Diamond Oval         158.000000\n",
       "4  Dr DY Patil Sports Academy         146.647059"
      ]
     },
     "execution_count": 15,
     "metadata": {},
     "output_type": "execute_result"
    }
   ],
   "source": [
    "avg_score_stadium.head()"
   ]
  },
  {
   "cell_type": "code",
   "execution_count": 16,
   "metadata": {
    "execution": {
     "iopub.execute_input": "2020-10-03T17:14:14.921264Z",
     "iopub.status.busy": "2020-10-03T17:14:14.920278Z",
     "iopub.status.idle": "2020-10-03T17:14:14.937082Z",
     "shell.execute_reply": "2020-10-03T17:14:14.937544Z"
    },
    "papermill": {
     "duration": 0.052738,
     "end_time": "2020-10-03T17:14:14.937689",
     "exception": false,
     "start_time": "2020-10-03T17:14:14.884951",
     "status": "completed"
    },
    "tags": []
   },
   "outputs": [],
   "source": [
    "innings = innings.merge(avg_score_stadium,on='venue')"
   ]
  },
  {
   "cell_type": "code",
   "execution_count": 17,
   "metadata": {
    "execution": {
     "iopub.execute_input": "2020-10-03T17:14:14.994225Z",
     "iopub.status.busy": "2020-10-03T17:14:14.993286Z",
     "iopub.status.idle": "2020-10-03T17:14:15.009643Z",
     "shell.execute_reply": "2020-10-03T17:14:15.010055Z"
    },
    "papermill": {
     "duration": 0.046443,
     "end_time": "2020-10-03T17:14:15.010215",
     "exception": false,
     "start_time": "2020-10-03T17:14:14.963772",
     "status": "completed"
    },
    "tags": []
   },
   "outputs": [],
   "source": [
    "runs_avg_batting_team = innings.drop_duplicates(subset=['mid']).groupby('bat_team').mean()['total']"
   ]
  },
  {
   "cell_type": "code",
   "execution_count": 18,
   "metadata": {
    "execution": {
     "iopub.execute_input": "2020-10-03T17:14:15.066547Z",
     "iopub.status.busy": "2020-10-03T17:14:15.065586Z",
     "iopub.status.idle": "2020-10-03T17:14:15.076658Z",
     "shell.execute_reply": "2020-10-03T17:14:15.077083Z"
    },
    "papermill": {
     "duration": 0.041081,
     "end_time": "2020-10-03T17:14:15.077246",
     "exception": false,
     "start_time": "2020-10-03T17:14:15.036165",
     "status": "completed"
    },
    "tags": []
   },
   "outputs": [],
   "source": [
    "runs_avg_bowling_team = innings.drop_duplicates(subset=['mid']).groupby('bowl_team').mean()['total']"
   ]
  },
  {
   "cell_type": "code",
   "execution_count": 19,
   "metadata": {
    "execution": {
     "iopub.execute_input": "2020-10-03T17:14:15.133793Z",
     "iopub.status.busy": "2020-10-03T17:14:15.132798Z",
     "iopub.status.idle": "2020-10-03T17:14:15.139696Z",
     "shell.execute_reply": "2020-10-03T17:14:15.140140Z"
    },
    "papermill": {
     "duration": 0.036759,
     "end_time": "2020-10-03T17:14:15.140297",
     "exception": false,
     "start_time": "2020-10-03T17:14:15.103538",
     "status": "completed"
    },
    "tags": []
   },
   "outputs": [],
   "source": [
    "runs_avg_batting_team = runs_avg_batting_team.reset_index()\n",
    "runs_avg_bowling_team = runs_avg_bowling_team.reset_index()"
   ]
  },
  {
   "cell_type": "code",
   "execution_count": 20,
   "metadata": {
    "execution": {
     "iopub.execute_input": "2020-10-03T17:14:15.197960Z",
     "iopub.status.busy": "2020-10-03T17:14:15.196972Z",
     "iopub.status.idle": "2020-10-03T17:14:15.202745Z",
     "shell.execute_reply": "2020-10-03T17:14:15.203141Z"
    },
    "papermill": {
     "duration": 0.036498,
     "end_time": "2020-10-03T17:14:15.203281",
     "exception": false,
     "start_time": "2020-10-03T17:14:15.166783",
     "status": "completed"
    },
    "tags": []
   },
   "outputs": [],
   "source": [
    "runs_avg_batting_team.rename(columns={'index':'bat_team',0:'avg_runs_batting_team'},inplace=True)\n",
    "runs_avg_bowling_team.rename(columns={'index':'bowl_team',0:'avg_runs_bowling_team'},inplace=True)"
   ]
  },
  {
   "cell_type": "code",
   "execution_count": 21,
   "metadata": {
    "execution": {
     "iopub.execute_input": "2020-10-03T17:14:15.260586Z",
     "iopub.status.busy": "2020-10-03T17:14:15.259649Z",
     "iopub.status.idle": "2020-10-03T17:14:15.285190Z",
     "shell.execute_reply": "2020-10-03T17:14:15.284700Z"
    },
    "papermill": {
     "duration": 0.055444,
     "end_time": "2020-10-03T17:14:15.285303",
     "exception": false,
     "start_time": "2020-10-03T17:14:15.229859",
     "status": "completed"
    },
    "tags": []
   },
   "outputs": [],
   "source": [
    "innings = innings.merge(runs_avg_batting_team,on='bat_team')"
   ]
  },
  {
   "cell_type": "code",
   "execution_count": 22,
   "metadata": {
    "execution": {
     "iopub.execute_input": "2020-10-03T17:14:15.348410Z",
     "iopub.status.busy": "2020-10-03T17:14:15.347391Z",
     "iopub.status.idle": "2020-10-03T17:14:15.364315Z",
     "shell.execute_reply": "2020-10-03T17:14:15.363841Z"
    },
    "papermill": {
     "duration": 0.052753,
     "end_time": "2020-10-03T17:14:15.364454",
     "exception": false,
     "start_time": "2020-10-03T17:14:15.311701",
     "status": "completed"
    },
    "tags": []
   },
   "outputs": [],
   "source": [
    "innings = innings.merge(runs_avg_bowling_team,on='bowl_team')"
   ]
  },
  {
   "cell_type": "code",
   "execution_count": 23,
   "metadata": {
    "execution": {
     "iopub.execute_input": "2020-10-03T17:14:15.423913Z",
     "iopub.status.busy": "2020-10-03T17:14:15.423263Z",
     "iopub.status.idle": "2020-10-03T17:14:15.425195Z",
     "shell.execute_reply": "2020-10-03T17:14:15.425636Z"
    },
    "papermill": {
     "duration": 0.034564,
     "end_time": "2020-10-03T17:14:15.425782",
     "exception": false,
     "start_time": "2020-10-03T17:14:15.391218",
     "status": "completed"
    },
    "tags": []
   },
   "outputs": [],
   "source": [
    "innings.rename(columns={'total_y':'avg_batting_team_score','total':'avg_bowling_team_score'},inplace=True)"
   ]
  },
  {
   "cell_type": "code",
   "execution_count": 24,
   "metadata": {
    "execution": {
     "iopub.execute_input": "2020-10-03T17:14:15.483051Z",
     "iopub.status.busy": "2020-10-03T17:14:15.482499Z",
     "iopub.status.idle": "2020-10-03T17:14:15.486629Z",
     "shell.execute_reply": "2020-10-03T17:14:15.487008Z"
    },
    "papermill": {
     "duration": 0.03431,
     "end_time": "2020-10-03T17:14:15.487159",
     "exception": false,
     "start_time": "2020-10-03T17:14:15.452849",
     "status": "completed"
    },
    "tags": []
   },
   "outputs": [],
   "source": [
    "innings.rename(columns={'total_x':'total'},inplace=True)"
   ]
  },
  {
   "cell_type": "code",
   "execution_count": 25,
   "metadata": {
    "execution": {
     "iopub.execute_input": "2020-10-03T17:14:15.543876Z",
     "iopub.status.busy": "2020-10-03T17:14:15.543313Z",
     "iopub.status.idle": "2020-10-03T17:14:15.585387Z",
     "shell.execute_reply": "2020-10-03T17:14:15.584910Z"
    },
    "papermill": {
     "duration": 0.071602,
     "end_time": "2020-10-03T17:14:15.585505",
     "exception": false,
     "start_time": "2020-10-03T17:14:15.513903",
     "status": "completed"
    },
    "tags": []
   },
   "outputs": [
    {
     "data": {
      "text/plain": [
       "mid                       0.096586\n",
       "runs                      0.254498\n",
       "wickets                  -0.337343\n",
       "overs                     0.022282\n",
       "runs_last_5               0.368253\n",
       "wickets_last_5           -0.273475\n",
       "striker                   0.381664\n",
       "non-striker               0.293233\n",
       "total                     1.000000\n",
       "avg_score_stadium         0.262129\n",
       "avg_batting_team_score    0.161425\n",
       "avg_bowling_team_score    0.149077\n",
       "Name: total, dtype: float64"
      ]
     },
     "execution_count": 25,
     "metadata": {},
     "output_type": "execute_result"
    }
   ],
   "source": [
    "innings.corr()['total']"
   ]
  },
  {
   "cell_type": "code",
   "execution_count": 26,
   "metadata": {
    "execution": {
     "iopub.execute_input": "2020-10-03T17:14:15.648294Z",
     "iopub.status.busy": "2020-10-03T17:14:15.646571Z",
     "iopub.status.idle": "2020-10-03T17:14:15.657025Z",
     "shell.execute_reply": "2020-10-03T17:14:15.656262Z"
    },
    "papermill": {
     "duration": 0.043956,
     "end_time": "2020-10-03T17:14:15.657177",
     "exception": false,
     "start_time": "2020-10-03T17:14:15.613221",
     "status": "completed"
    },
    "tags": []
   },
   "outputs": [],
   "source": [
    "innings.drop(columns=['mid','date','batsman','bowler','striker','non-striker'],axis=1,inplace=True)"
   ]
  },
  {
   "cell_type": "code",
   "execution_count": 27,
   "metadata": {
    "execution": {
     "iopub.execute_input": "2020-10-03T17:14:15.728320Z",
     "iopub.status.busy": "2020-10-03T17:14:15.727742Z",
     "iopub.status.idle": "2020-10-03T17:14:15.730841Z",
     "shell.execute_reply": "2020-10-03T17:14:15.731271Z"
    },
    "papermill": {
     "duration": 0.044978,
     "end_time": "2020-10-03T17:14:15.731433",
     "exception": false,
     "start_time": "2020-10-03T17:14:15.686455",
     "status": "completed"
    },
    "tags": []
   },
   "outputs": [
    {
     "data": {
      "text/html": [
       "<div>\n",
       "<style scoped>\n",
       "    .dataframe tbody tr th:only-of-type {\n",
       "        vertical-align: middle;\n",
       "    }\n",
       "\n",
       "    .dataframe tbody tr th {\n",
       "        vertical-align: top;\n",
       "    }\n",
       "\n",
       "    .dataframe thead th {\n",
       "        text-align: right;\n",
       "    }\n",
       "</style>\n",
       "<table border=\"1\" class=\"dataframe\">\n",
       "  <thead>\n",
       "    <tr style=\"text-align: right;\">\n",
       "      <th></th>\n",
       "      <th>venue</th>\n",
       "      <th>bat_team</th>\n",
       "      <th>bowl_team</th>\n",
       "      <th>runs</th>\n",
       "      <th>wickets</th>\n",
       "      <th>overs</th>\n",
       "      <th>runs_last_5</th>\n",
       "      <th>wickets_last_5</th>\n",
       "      <th>total</th>\n",
       "      <th>avg_score_stadium</th>\n",
       "      <th>avg_batting_team_score</th>\n",
       "      <th>avg_bowling_team_score</th>\n",
       "    </tr>\n",
       "  </thead>\n",
       "  <tbody>\n",
       "    <tr>\n",
       "      <th>0</th>\n",
       "      <td>M Chinnaswamy Stadium</td>\n",
       "      <td>Kolkata Knight Riders</td>\n",
       "      <td>Royal Challengers Bangalore</td>\n",
       "      <td>1</td>\n",
       "      <td>0</td>\n",
       "      <td>0.1</td>\n",
       "      <td>1</td>\n",
       "      <td>0</td>\n",
       "      <td>222</td>\n",
       "      <td>167.893939</td>\n",
       "      <td>156.121212</td>\n",
       "      <td>161.911392</td>\n",
       "    </tr>\n",
       "    <tr>\n",
       "      <th>1</th>\n",
       "      <td>M Chinnaswamy Stadium</td>\n",
       "      <td>Kolkata Knight Riders</td>\n",
       "      <td>Royal Challengers Bangalore</td>\n",
       "      <td>1</td>\n",
       "      <td>0</td>\n",
       "      <td>0.2</td>\n",
       "      <td>1</td>\n",
       "      <td>0</td>\n",
       "      <td>222</td>\n",
       "      <td>167.893939</td>\n",
       "      <td>156.121212</td>\n",
       "      <td>161.911392</td>\n",
       "    </tr>\n",
       "    <tr>\n",
       "      <th>2</th>\n",
       "      <td>M Chinnaswamy Stadium</td>\n",
       "      <td>Kolkata Knight Riders</td>\n",
       "      <td>Royal Challengers Bangalore</td>\n",
       "      <td>2</td>\n",
       "      <td>0</td>\n",
       "      <td>0.2</td>\n",
       "      <td>2</td>\n",
       "      <td>0</td>\n",
       "      <td>222</td>\n",
       "      <td>167.893939</td>\n",
       "      <td>156.121212</td>\n",
       "      <td>161.911392</td>\n",
       "    </tr>\n",
       "    <tr>\n",
       "      <th>3</th>\n",
       "      <td>M Chinnaswamy Stadium</td>\n",
       "      <td>Kolkata Knight Riders</td>\n",
       "      <td>Royal Challengers Bangalore</td>\n",
       "      <td>2</td>\n",
       "      <td>0</td>\n",
       "      <td>0.3</td>\n",
       "      <td>2</td>\n",
       "      <td>0</td>\n",
       "      <td>222</td>\n",
       "      <td>167.893939</td>\n",
       "      <td>156.121212</td>\n",
       "      <td>161.911392</td>\n",
       "    </tr>\n",
       "    <tr>\n",
       "      <th>4</th>\n",
       "      <td>M Chinnaswamy Stadium</td>\n",
       "      <td>Kolkata Knight Riders</td>\n",
       "      <td>Royal Challengers Bangalore</td>\n",
       "      <td>2</td>\n",
       "      <td>0</td>\n",
       "      <td>0.4</td>\n",
       "      <td>2</td>\n",
       "      <td>0</td>\n",
       "      <td>222</td>\n",
       "      <td>167.893939</td>\n",
       "      <td>156.121212</td>\n",
       "      <td>161.911392</td>\n",
       "    </tr>\n",
       "  </tbody>\n",
       "</table>\n",
       "</div>"
      ],
      "text/plain": [
       "                   venue               bat_team                    bowl_team  \\\n",
       "0  M Chinnaswamy Stadium  Kolkata Knight Riders  Royal Challengers Bangalore   \n",
       "1  M Chinnaswamy Stadium  Kolkata Knight Riders  Royal Challengers Bangalore   \n",
       "2  M Chinnaswamy Stadium  Kolkata Knight Riders  Royal Challengers Bangalore   \n",
       "3  M Chinnaswamy Stadium  Kolkata Knight Riders  Royal Challengers Bangalore   \n",
       "4  M Chinnaswamy Stadium  Kolkata Knight Riders  Royal Challengers Bangalore   \n",
       "\n",
       "   runs  wickets  overs  runs_last_5  wickets_last_5  total  \\\n",
       "0     1        0    0.1            1               0    222   \n",
       "1     1        0    0.2            1               0    222   \n",
       "2     2        0    0.2            2               0    222   \n",
       "3     2        0    0.3            2               0    222   \n",
       "4     2        0    0.4            2               0    222   \n",
       "\n",
       "   avg_score_stadium  avg_batting_team_score  avg_bowling_team_score  \n",
       "0         167.893939              156.121212              161.911392  \n",
       "1         167.893939              156.121212              161.911392  \n",
       "2         167.893939              156.121212              161.911392  \n",
       "3         167.893939              156.121212              161.911392  \n",
       "4         167.893939              156.121212              161.911392  "
      ]
     },
     "execution_count": 27,
     "metadata": {},
     "output_type": "execute_result"
    }
   ],
   "source": [
    "innings.head()"
   ]
  },
  {
   "cell_type": "code",
   "execution_count": 28,
   "metadata": {
    "execution": {
     "iopub.execute_input": "2020-10-03T17:14:15.790912Z",
     "iopub.status.busy": "2020-10-03T17:14:15.790299Z",
     "iopub.status.idle": "2020-10-03T17:14:15.795158Z",
     "shell.execute_reply": "2020-10-03T17:14:15.795696Z"
    },
    "papermill": {
     "duration": 0.03616,
     "end_time": "2020-10-03T17:14:15.795863",
     "exception": false,
     "start_time": "2020-10-03T17:14:15.759703",
     "status": "completed"
    },
    "tags": []
   },
   "outputs": [
    {
     "data": {
      "text/plain": [
       "(76014, 12)"
      ]
     },
     "execution_count": 28,
     "metadata": {},
     "output_type": "execute_result"
    }
   ],
   "source": [
    "innings.shape"
   ]
  },
  {
   "cell_type": "code",
   "execution_count": 29,
   "metadata": {
    "execution": {
     "iopub.execute_input": "2020-10-03T17:14:15.856384Z",
     "iopub.status.busy": "2020-10-03T17:14:15.855702Z",
     "iopub.status.idle": "2020-10-03T17:14:15.866470Z",
     "shell.execute_reply": "2020-10-03T17:14:15.866905Z"
    },
    "papermill": {
     "duration": 0.042284,
     "end_time": "2020-10-03T17:14:15.867064",
     "exception": false,
     "start_time": "2020-10-03T17:14:15.824780",
     "status": "completed"
    },
    "tags": []
   },
   "outputs": [
    {
     "data": {
      "text/plain": [
       "array(['Kolkata Knight Riders', 'Chennai Super Kings', 'Kings XI Punjab',\n",
       "       'Rajasthan Royals', 'Delhi Daredevils', 'Mumbai Indians',\n",
       "       'Kochi Tuskers Kerala', 'Pune Warriors', 'Deccan Chargers',\n",
       "       'Sunrisers Hyderabad', 'Rising Pune Supergiants', 'Gujarat Lions',\n",
       "       'Rising Pune Supergiant', 'Royal Challengers Bangalore'],\n",
       "      dtype=object)"
      ]
     },
     "execution_count": 29,
     "metadata": {},
     "output_type": "execute_result"
    }
   ],
   "source": [
    "innings['bat_team'].unique()"
   ]
  },
  {
   "cell_type": "code",
   "execution_count": 30,
   "metadata": {
    "execution": {
     "iopub.execute_input": "2020-10-03T17:14:15.932556Z",
     "iopub.status.busy": "2020-10-03T17:14:15.931829Z",
     "iopub.status.idle": "2020-10-03T17:14:15.934219Z",
     "shell.execute_reply": "2020-10-03T17:14:15.934669Z"
    },
    "papermill": {
     "duration": 0.036954,
     "end_time": "2020-10-03T17:14:15.934817",
     "exception": false,
     "start_time": "2020-10-03T17:14:15.897863",
     "status": "completed"
    },
    "tags": []
   },
   "outputs": [],
   "source": [
    "obsolete_teams = ['Kochi Tuskers Kerala','Pune Warriors','Deccan Chargers','Rising Pune Supergiants','Gujarat Lions','Rising Pune Supergiant']"
   ]
  },
  {
   "cell_type": "code",
   "execution_count": 31,
   "metadata": {
    "execution": {
     "iopub.execute_input": "2020-10-03T17:14:15.995473Z",
     "iopub.status.busy": "2020-10-03T17:14:15.994894Z",
     "iopub.status.idle": "2020-10-03T17:14:16.010141Z",
     "shell.execute_reply": "2020-10-03T17:14:16.010591Z"
    },
    "papermill": {
     "duration": 0.047487,
     "end_time": "2020-10-03T17:14:16.010744",
     "exception": false,
     "start_time": "2020-10-03T17:14:15.963257",
     "status": "completed"
    },
    "tags": []
   },
   "outputs": [],
   "source": [
    "innings = innings[~(innings['bat_team'].isin(obsolete_teams)) & ~(innings['bowl_team'].isin(obsolete_teams))]"
   ]
  },
  {
   "cell_type": "code",
   "execution_count": 32,
   "metadata": {
    "execution": {
     "iopub.execute_input": "2020-10-03T17:14:16.070972Z",
     "iopub.status.busy": "2020-10-03T17:14:16.070384Z",
     "iopub.status.idle": "2020-10-03T17:14:16.084441Z",
     "shell.execute_reply": "2020-10-03T17:14:16.084890Z"
    },
    "papermill": {
     "duration": 0.045715,
     "end_time": "2020-10-03T17:14:16.085028",
     "exception": false,
     "start_time": "2020-10-03T17:14:16.039313",
     "status": "completed"
    },
    "tags": []
   },
   "outputs": [
    {
     "data": {
      "text/html": [
       "<div>\n",
       "<style scoped>\n",
       "    .dataframe tbody tr th:only-of-type {\n",
       "        vertical-align: middle;\n",
       "    }\n",
       "\n",
       "    .dataframe tbody tr th {\n",
       "        vertical-align: top;\n",
       "    }\n",
       "\n",
       "    .dataframe thead th {\n",
       "        text-align: right;\n",
       "    }\n",
       "</style>\n",
       "<table border=\"1\" class=\"dataframe\">\n",
       "  <thead>\n",
       "    <tr style=\"text-align: right;\">\n",
       "      <th></th>\n",
       "      <th>venue</th>\n",
       "      <th>bat_team</th>\n",
       "      <th>bowl_team</th>\n",
       "      <th>runs</th>\n",
       "      <th>wickets</th>\n",
       "      <th>overs</th>\n",
       "      <th>runs_last_5</th>\n",
       "      <th>wickets_last_5</th>\n",
       "      <th>total</th>\n",
       "      <th>avg_score_stadium</th>\n",
       "      <th>avg_batting_team_score</th>\n",
       "      <th>avg_bowling_team_score</th>\n",
       "    </tr>\n",
       "  </thead>\n",
       "  <tbody>\n",
       "    <tr>\n",
       "      <th>0</th>\n",
       "      <td>M Chinnaswamy Stadium</td>\n",
       "      <td>Kolkata Knight Riders</td>\n",
       "      <td>Royal Challengers Bangalore</td>\n",
       "      <td>1</td>\n",
       "      <td>0</td>\n",
       "      <td>0.1</td>\n",
       "      <td>1</td>\n",
       "      <td>0</td>\n",
       "      <td>222</td>\n",
       "      <td>167.893939</td>\n",
       "      <td>156.121212</td>\n",
       "      <td>161.911392</td>\n",
       "    </tr>\n",
       "    <tr>\n",
       "      <th>1</th>\n",
       "      <td>M Chinnaswamy Stadium</td>\n",
       "      <td>Kolkata Knight Riders</td>\n",
       "      <td>Royal Challengers Bangalore</td>\n",
       "      <td>1</td>\n",
       "      <td>0</td>\n",
       "      <td>0.2</td>\n",
       "      <td>1</td>\n",
       "      <td>0</td>\n",
       "      <td>222</td>\n",
       "      <td>167.893939</td>\n",
       "      <td>156.121212</td>\n",
       "      <td>161.911392</td>\n",
       "    </tr>\n",
       "    <tr>\n",
       "      <th>2</th>\n",
       "      <td>M Chinnaswamy Stadium</td>\n",
       "      <td>Kolkata Knight Riders</td>\n",
       "      <td>Royal Challengers Bangalore</td>\n",
       "      <td>2</td>\n",
       "      <td>0</td>\n",
       "      <td>0.2</td>\n",
       "      <td>2</td>\n",
       "      <td>0</td>\n",
       "      <td>222</td>\n",
       "      <td>167.893939</td>\n",
       "      <td>156.121212</td>\n",
       "      <td>161.911392</td>\n",
       "    </tr>\n",
       "    <tr>\n",
       "      <th>3</th>\n",
       "      <td>M Chinnaswamy Stadium</td>\n",
       "      <td>Kolkata Knight Riders</td>\n",
       "      <td>Royal Challengers Bangalore</td>\n",
       "      <td>2</td>\n",
       "      <td>0</td>\n",
       "      <td>0.3</td>\n",
       "      <td>2</td>\n",
       "      <td>0</td>\n",
       "      <td>222</td>\n",
       "      <td>167.893939</td>\n",
       "      <td>156.121212</td>\n",
       "      <td>161.911392</td>\n",
       "    </tr>\n",
       "    <tr>\n",
       "      <th>4</th>\n",
       "      <td>M Chinnaswamy Stadium</td>\n",
       "      <td>Kolkata Knight Riders</td>\n",
       "      <td>Royal Challengers Bangalore</td>\n",
       "      <td>2</td>\n",
       "      <td>0</td>\n",
       "      <td>0.4</td>\n",
       "      <td>2</td>\n",
       "      <td>0</td>\n",
       "      <td>222</td>\n",
       "      <td>167.893939</td>\n",
       "      <td>156.121212</td>\n",
       "      <td>161.911392</td>\n",
       "    </tr>\n",
       "  </tbody>\n",
       "</table>\n",
       "</div>"
      ],
      "text/plain": [
       "                   venue               bat_team                    bowl_team  \\\n",
       "0  M Chinnaswamy Stadium  Kolkata Knight Riders  Royal Challengers Bangalore   \n",
       "1  M Chinnaswamy Stadium  Kolkata Knight Riders  Royal Challengers Bangalore   \n",
       "2  M Chinnaswamy Stadium  Kolkata Knight Riders  Royal Challengers Bangalore   \n",
       "3  M Chinnaswamy Stadium  Kolkata Knight Riders  Royal Challengers Bangalore   \n",
       "4  M Chinnaswamy Stadium  Kolkata Knight Riders  Royal Challengers Bangalore   \n",
       "\n",
       "   runs  wickets  overs  runs_last_5  wickets_last_5  total  \\\n",
       "0     1        0    0.1            1               0    222   \n",
       "1     1        0    0.2            1               0    222   \n",
       "2     2        0    0.2            2               0    222   \n",
       "3     2        0    0.3            2               0    222   \n",
       "4     2        0    0.4            2               0    222   \n",
       "\n",
       "   avg_score_stadium  avg_batting_team_score  avg_bowling_team_score  \n",
       "0         167.893939              156.121212              161.911392  \n",
       "1         167.893939              156.121212              161.911392  \n",
       "2         167.893939              156.121212              161.911392  \n",
       "3         167.893939              156.121212              161.911392  \n",
       "4         167.893939              156.121212              161.911392  "
      ]
     },
     "execution_count": 32,
     "metadata": {},
     "output_type": "execute_result"
    }
   ],
   "source": [
    "innings.head()"
   ]
  },
  {
   "cell_type": "code",
   "execution_count": 33,
   "metadata": {
    "execution": {
     "iopub.execute_input": "2020-10-03T17:14:16.150582Z",
     "iopub.status.busy": "2020-10-03T17:14:16.149635Z",
     "iopub.status.idle": "2020-10-03T17:14:16.179827Z",
     "shell.execute_reply": "2020-10-03T17:14:16.179261Z"
    },
    "papermill": {
     "duration": 0.064957,
     "end_time": "2020-10-03T17:14:16.179939",
     "exception": false,
     "start_time": "2020-10-03T17:14:16.114982",
     "status": "completed"
    },
    "tags": []
   },
   "outputs": [],
   "source": [
    "new = pd.get_dummies(innings, columns=['venue','bat_team','bowl_team'],drop_first=True)"
   ]
  },
  {
   "cell_type": "code",
   "execution_count": 34,
   "metadata": {
    "execution": {
     "iopub.execute_input": "2020-10-03T17:14:16.255767Z",
     "iopub.status.busy": "2020-10-03T17:14:16.244760Z",
     "iopub.status.idle": "2020-10-03T17:14:16.266575Z",
     "shell.execute_reply": "2020-10-03T17:14:16.266065Z"
    },
    "papermill": {
     "duration": 0.057108,
     "end_time": "2020-10-03T17:14:16.266695",
     "exception": false,
     "start_time": "2020-10-03T17:14:16.209587",
     "status": "completed"
    },
    "tags": []
   },
   "outputs": [
    {
     "data": {
      "text/html": [
       "<div>\n",
       "<style scoped>\n",
       "    .dataframe tbody tr th:only-of-type {\n",
       "        vertical-align: middle;\n",
       "    }\n",
       "\n",
       "    .dataframe tbody tr th {\n",
       "        vertical-align: top;\n",
       "    }\n",
       "\n",
       "    .dataframe thead th {\n",
       "        text-align: right;\n",
       "    }\n",
       "</style>\n",
       "<table border=\"1\" class=\"dataframe\">\n",
       "  <thead>\n",
       "    <tr style=\"text-align: right;\">\n",
       "      <th></th>\n",
       "      <th>runs</th>\n",
       "      <th>wickets</th>\n",
       "      <th>overs</th>\n",
       "      <th>runs_last_5</th>\n",
       "      <th>wickets_last_5</th>\n",
       "      <th>total</th>\n",
       "      <th>avg_score_stadium</th>\n",
       "      <th>avg_batting_team_score</th>\n",
       "      <th>avg_bowling_team_score</th>\n",
       "      <th>venue_Brabourne Stadium</th>\n",
       "      <th>...</th>\n",
       "      <th>bat_team_Rajasthan Royals</th>\n",
       "      <th>bat_team_Royal Challengers Bangalore</th>\n",
       "      <th>bat_team_Sunrisers Hyderabad</th>\n",
       "      <th>bowl_team_Delhi Daredevils</th>\n",
       "      <th>bowl_team_Kings XI Punjab</th>\n",
       "      <th>bowl_team_Kolkata Knight Riders</th>\n",
       "      <th>bowl_team_Mumbai Indians</th>\n",
       "      <th>bowl_team_Rajasthan Royals</th>\n",
       "      <th>bowl_team_Royal Challengers Bangalore</th>\n",
       "      <th>bowl_team_Sunrisers Hyderabad</th>\n",
       "    </tr>\n",
       "  </thead>\n",
       "  <tbody>\n",
       "    <tr>\n",
       "      <th>0</th>\n",
       "      <td>1</td>\n",
       "      <td>0</td>\n",
       "      <td>0.1</td>\n",
       "      <td>1</td>\n",
       "      <td>0</td>\n",
       "      <td>222</td>\n",
       "      <td>167.893939</td>\n",
       "      <td>156.121212</td>\n",
       "      <td>161.911392</td>\n",
       "      <td>0</td>\n",
       "      <td>...</td>\n",
       "      <td>0</td>\n",
       "      <td>0</td>\n",
       "      <td>0</td>\n",
       "      <td>0</td>\n",
       "      <td>0</td>\n",
       "      <td>0</td>\n",
       "      <td>0</td>\n",
       "      <td>0</td>\n",
       "      <td>1</td>\n",
       "      <td>0</td>\n",
       "    </tr>\n",
       "    <tr>\n",
       "      <th>1</th>\n",
       "      <td>1</td>\n",
       "      <td>0</td>\n",
       "      <td>0.2</td>\n",
       "      <td>1</td>\n",
       "      <td>0</td>\n",
       "      <td>222</td>\n",
       "      <td>167.893939</td>\n",
       "      <td>156.121212</td>\n",
       "      <td>161.911392</td>\n",
       "      <td>0</td>\n",
       "      <td>...</td>\n",
       "      <td>0</td>\n",
       "      <td>0</td>\n",
       "      <td>0</td>\n",
       "      <td>0</td>\n",
       "      <td>0</td>\n",
       "      <td>0</td>\n",
       "      <td>0</td>\n",
       "      <td>0</td>\n",
       "      <td>1</td>\n",
       "      <td>0</td>\n",
       "    </tr>\n",
       "    <tr>\n",
       "      <th>2</th>\n",
       "      <td>2</td>\n",
       "      <td>0</td>\n",
       "      <td>0.2</td>\n",
       "      <td>2</td>\n",
       "      <td>0</td>\n",
       "      <td>222</td>\n",
       "      <td>167.893939</td>\n",
       "      <td>156.121212</td>\n",
       "      <td>161.911392</td>\n",
       "      <td>0</td>\n",
       "      <td>...</td>\n",
       "      <td>0</td>\n",
       "      <td>0</td>\n",
       "      <td>0</td>\n",
       "      <td>0</td>\n",
       "      <td>0</td>\n",
       "      <td>0</td>\n",
       "      <td>0</td>\n",
       "      <td>0</td>\n",
       "      <td>1</td>\n",
       "      <td>0</td>\n",
       "    </tr>\n",
       "    <tr>\n",
       "      <th>3</th>\n",
       "      <td>2</td>\n",
       "      <td>0</td>\n",
       "      <td>0.3</td>\n",
       "      <td>2</td>\n",
       "      <td>0</td>\n",
       "      <td>222</td>\n",
       "      <td>167.893939</td>\n",
       "      <td>156.121212</td>\n",
       "      <td>161.911392</td>\n",
       "      <td>0</td>\n",
       "      <td>...</td>\n",
       "      <td>0</td>\n",
       "      <td>0</td>\n",
       "      <td>0</td>\n",
       "      <td>0</td>\n",
       "      <td>0</td>\n",
       "      <td>0</td>\n",
       "      <td>0</td>\n",
       "      <td>0</td>\n",
       "      <td>1</td>\n",
       "      <td>0</td>\n",
       "    </tr>\n",
       "    <tr>\n",
       "      <th>4</th>\n",
       "      <td>2</td>\n",
       "      <td>0</td>\n",
       "      <td>0.4</td>\n",
       "      <td>2</td>\n",
       "      <td>0</td>\n",
       "      <td>222</td>\n",
       "      <td>167.893939</td>\n",
       "      <td>156.121212</td>\n",
       "      <td>161.911392</td>\n",
       "      <td>0</td>\n",
       "      <td>...</td>\n",
       "      <td>0</td>\n",
       "      <td>0</td>\n",
       "      <td>0</td>\n",
       "      <td>0</td>\n",
       "      <td>0</td>\n",
       "      <td>0</td>\n",
       "      <td>0</td>\n",
       "      <td>0</td>\n",
       "      <td>1</td>\n",
       "      <td>0</td>\n",
       "    </tr>\n",
       "  </tbody>\n",
       "</table>\n",
       "<p>5 rows × 53 columns</p>\n",
       "</div>"
      ],
      "text/plain": [
       "   runs  wickets  overs  runs_last_5  wickets_last_5  total  \\\n",
       "0     1        0    0.1            1               0    222   \n",
       "1     1        0    0.2            1               0    222   \n",
       "2     2        0    0.2            2               0    222   \n",
       "3     2        0    0.3            2               0    222   \n",
       "4     2        0    0.4            2               0    222   \n",
       "\n",
       "   avg_score_stadium  avg_batting_team_score  avg_bowling_team_score  \\\n",
       "0         167.893939              156.121212              161.911392   \n",
       "1         167.893939              156.121212              161.911392   \n",
       "2         167.893939              156.121212              161.911392   \n",
       "3         167.893939              156.121212              161.911392   \n",
       "4         167.893939              156.121212              161.911392   \n",
       "\n",
       "   venue_Brabourne Stadium  ...  bat_team_Rajasthan Royals  \\\n",
       "0                        0  ...                          0   \n",
       "1                        0  ...                          0   \n",
       "2                        0  ...                          0   \n",
       "3                        0  ...                          0   \n",
       "4                        0  ...                          0   \n",
       "\n",
       "   bat_team_Royal Challengers Bangalore  bat_team_Sunrisers Hyderabad  \\\n",
       "0                                     0                             0   \n",
       "1                                     0                             0   \n",
       "2                                     0                             0   \n",
       "3                                     0                             0   \n",
       "4                                     0                             0   \n",
       "\n",
       "   bowl_team_Delhi Daredevils  bowl_team_Kings XI Punjab  \\\n",
       "0                           0                          0   \n",
       "1                           0                          0   \n",
       "2                           0                          0   \n",
       "3                           0                          0   \n",
       "4                           0                          0   \n",
       "\n",
       "   bowl_team_Kolkata Knight Riders  bowl_team_Mumbai Indians  \\\n",
       "0                                0                         0   \n",
       "1                                0                         0   \n",
       "2                                0                         0   \n",
       "3                                0                         0   \n",
       "4                                0                         0   \n",
       "\n",
       "   bowl_team_Rajasthan Royals  bowl_team_Royal Challengers Bangalore  \\\n",
       "0                           0                                      1   \n",
       "1                           0                                      1   \n",
       "2                           0                                      1   \n",
       "3                           0                                      1   \n",
       "4                           0                                      1   \n",
       "\n",
       "   bowl_team_Sunrisers Hyderabad  \n",
       "0                              0  \n",
       "1                              0  \n",
       "2                              0  \n",
       "3                              0  \n",
       "4                              0  \n",
       "\n",
       "[5 rows x 53 columns]"
      ]
     },
     "execution_count": 34,
     "metadata": {},
     "output_type": "execute_result"
    }
   ],
   "source": [
    "new.head()"
   ]
  },
  {
   "cell_type": "code",
   "execution_count": 35,
   "metadata": {
    "execution": {
     "iopub.execute_input": "2020-10-03T17:14:16.331563Z",
     "iopub.status.busy": "2020-10-03T17:14:16.330944Z",
     "iopub.status.idle": "2020-10-03T17:14:17.338237Z",
     "shell.execute_reply": "2020-10-03T17:14:17.337760Z"
    },
    "papermill": {
     "duration": 1.041781,
     "end_time": "2020-10-03T17:14:17.338379",
     "exception": false,
     "start_time": "2020-10-03T17:14:16.296598",
     "status": "completed"
    },
    "tags": []
   },
   "outputs": [],
   "source": [
    "from sklearn.preprocessing import StandardScaler\n",
    "scaler = StandardScaler()"
   ]
  },
  {
   "cell_type": "code",
   "execution_count": 36,
   "metadata": {
    "execution": {
     "iopub.execute_input": "2020-10-03T17:14:17.404634Z",
     "iopub.status.busy": "2020-10-03T17:14:17.404006Z",
     "iopub.status.idle": "2020-10-03T17:14:17.411074Z",
     "shell.execute_reply": "2020-10-03T17:14:17.411483Z"
    },
    "papermill": {
     "duration": 0.0432,
     "end_time": "2020-10-03T17:14:17.411661",
     "exception": false,
     "start_time": "2020-10-03T17:14:17.368461",
     "status": "completed"
    },
    "tags": []
   },
   "outputs": [],
   "source": [
    "X = new.drop(columns=['total'],axis=1)"
   ]
  },
  {
   "cell_type": "code",
   "execution_count": 37,
   "metadata": {
    "execution": {
     "iopub.execute_input": "2020-10-03T17:14:17.475192Z",
     "iopub.status.busy": "2020-10-03T17:14:17.474655Z",
     "iopub.status.idle": "2020-10-03T17:14:17.558283Z",
     "shell.execute_reply": "2020-10-03T17:14:17.558745Z"
    },
    "papermill": {
     "duration": 0.117238,
     "end_time": "2020-10-03T17:14:17.558905",
     "exception": false,
     "start_time": "2020-10-03T17:14:17.441667",
     "status": "completed"
    },
    "tags": []
   },
   "outputs": [],
   "source": [
    "X = scaler.fit_transform(X)"
   ]
  },
  {
   "cell_type": "code",
   "execution_count": 38,
   "metadata": {
    "execution": {
     "iopub.execute_input": "2020-10-03T17:14:17.624607Z",
     "iopub.status.busy": "2020-10-03T17:14:17.623964Z",
     "iopub.status.idle": "2020-10-03T17:14:17.627050Z",
     "shell.execute_reply": "2020-10-03T17:14:17.627516Z"
    },
    "papermill": {
     "duration": 0.038757,
     "end_time": "2020-10-03T17:14:17.627660",
     "exception": false,
     "start_time": "2020-10-03T17:14:17.588903",
     "status": "completed"
    },
    "tags": []
   },
   "outputs": [
    {
     "data": {
      "text/plain": [
       "(52,)"
      ]
     },
     "execution_count": 38,
     "metadata": {},
     "output_type": "execute_result"
    }
   ],
   "source": [
    "X[0].shape"
   ]
  },
  {
   "cell_type": "code",
   "execution_count": 39,
   "metadata": {
    "execution": {
     "iopub.execute_input": "2020-10-03T17:14:17.691094Z",
     "iopub.status.busy": "2020-10-03T17:14:17.690471Z",
     "iopub.status.idle": "2020-10-03T17:14:17.693902Z",
     "shell.execute_reply": "2020-10-03T17:14:17.694304Z"
    },
    "papermill": {
     "duration": 0.036536,
     "end_time": "2020-10-03T17:14:17.694445",
     "exception": false,
     "start_time": "2020-10-03T17:14:17.657909",
     "status": "completed"
    },
    "tags": []
   },
   "outputs": [],
   "source": [
    "y = new['total'].values"
   ]
  },
  {
   "cell_type": "code",
   "execution_count": 40,
   "metadata": {
    "execution": {
     "iopub.execute_input": "2020-10-03T17:14:17.760226Z",
     "iopub.status.busy": "2020-10-03T17:14:17.759675Z",
     "iopub.status.idle": "2020-10-03T17:14:17.765483Z",
     "shell.execute_reply": "2020-10-03T17:14:17.765963Z"
    },
    "papermill": {
     "duration": 0.039836,
     "end_time": "2020-10-03T17:14:17.766109",
     "exception": false,
     "start_time": "2020-10-03T17:14:17.726273",
     "status": "completed"
    },
    "tags": []
   },
   "outputs": [
    {
     "data": {
      "text/plain": [
       "array([222, 222, 222, ..., 209, 209, 209])"
      ]
     },
     "execution_count": 40,
     "metadata": {},
     "output_type": "execute_result"
    }
   ],
   "source": [
    "y"
   ]
  },
  {
   "cell_type": "code",
   "execution_count": 41,
   "metadata": {
    "execution": {
     "iopub.execute_input": "2020-10-03T17:14:17.830585Z",
     "iopub.status.busy": "2020-10-03T17:14:17.830014Z",
     "iopub.status.idle": "2020-10-03T17:14:17.912982Z",
     "shell.execute_reply": "2020-10-03T17:14:17.912462Z"
    },
    "papermill": {
     "duration": 0.116121,
     "end_time": "2020-10-03T17:14:17.913101",
     "exception": false,
     "start_time": "2020-10-03T17:14:17.796980",
     "status": "completed"
    },
    "tags": []
   },
   "outputs": [],
   "source": [
    "from sklearn.model_selection import train_test_split\n",
    "X_train,X_test,y_train,y_test = train_test_split(X,y,test_size=0.2,random_state=1)"
   ]
  },
  {
   "cell_type": "code",
   "execution_count": 42,
   "metadata": {
    "execution": {
     "iopub.execute_input": "2020-10-03T17:14:17.981009Z",
     "iopub.status.busy": "2020-10-03T17:14:17.980117Z",
     "iopub.status.idle": "2020-10-03T17:14:17.983318Z",
     "shell.execute_reply": "2020-10-03T17:14:17.983781Z"
    },
    "papermill": {
     "duration": 0.039133,
     "end_time": "2020-10-03T17:14:17.983916",
     "exception": false,
     "start_time": "2020-10-03T17:14:17.944783",
     "status": "completed"
    },
    "tags": []
   },
   "outputs": [
    {
     "data": {
      "text/plain": [
       "(43048, 52)"
      ]
     },
     "execution_count": 42,
     "metadata": {},
     "output_type": "execute_result"
    }
   ],
   "source": [
    "X_train.shape"
   ]
  },
  {
   "cell_type": "code",
   "execution_count": 43,
   "metadata": {
    "execution": {
     "iopub.execute_input": "2020-10-03T17:14:18.052222Z",
     "iopub.status.busy": "2020-10-03T17:14:18.051580Z",
     "iopub.status.idle": "2020-10-03T17:14:23.736653Z",
     "shell.execute_reply": "2020-10-03T17:14:23.735660Z"
    },
    "papermill": {
     "duration": 5.720509,
     "end_time": "2020-10-03T17:14:23.736775",
     "exception": false,
     "start_time": "2020-10-03T17:14:18.016266",
     "status": "completed"
    },
    "tags": []
   },
   "outputs": [],
   "source": [
    "import tensorflow\n",
    "from tensorflow import keras\n",
    "from keras import Sequential\n",
    "from keras.layers import Dense,Dropout"
   ]
  },
  {
   "cell_type": "code",
   "execution_count": 44,
   "metadata": {
    "execution": {
     "iopub.execute_input": "2020-10-03T17:14:23.803454Z",
     "iopub.status.busy": "2020-10-03T17:14:23.802814Z",
     "iopub.status.idle": "2020-10-03T17:14:23.875982Z",
     "shell.execute_reply": "2020-10-03T17:14:23.875449Z"
    },
    "papermill": {
     "duration": 0.108371,
     "end_time": "2020-10-03T17:14:23.876094",
     "exception": false,
     "start_time": "2020-10-03T17:14:23.767723",
     "status": "completed"
    },
    "tags": []
   },
   "outputs": [],
   "source": [
    "model= Sequential()"
   ]
  },
  {
   "cell_type": "code",
   "execution_count": 45,
   "metadata": {
    "execution": {
     "iopub.execute_input": "2020-10-03T17:14:23.943019Z",
     "iopub.status.busy": "2020-10-03T17:14:23.942090Z",
     "iopub.status.idle": "2020-10-03T17:14:23.997598Z",
     "shell.execute_reply": "2020-10-03T17:14:23.998074Z"
    },
    "papermill": {
     "duration": 0.090701,
     "end_time": "2020-10-03T17:14:23.998216",
     "exception": false,
     "start_time": "2020-10-03T17:14:23.907515",
     "status": "completed"
    },
    "tags": []
   },
   "outputs": [],
   "source": [
    "model.add(Dense(128,activation='relu',input_dim=52))\n",
    "model.add(Dense(128,activation='relu'))\n",
    "model.add(Dense(1,activation='linear'))"
   ]
  },
  {
   "cell_type": "code",
   "execution_count": 46,
   "metadata": {
    "execution": {
     "iopub.execute_input": "2020-10-03T17:14:24.064846Z",
     "iopub.status.busy": "2020-10-03T17:14:24.063939Z",
     "iopub.status.idle": "2020-10-03T17:14:24.071827Z",
     "shell.execute_reply": "2020-10-03T17:14:24.072235Z"
    },
    "papermill": {
     "duration": 0.042969,
     "end_time": "2020-10-03T17:14:24.072407",
     "exception": false,
     "start_time": "2020-10-03T17:14:24.029438",
     "status": "completed"
    },
    "tags": []
   },
   "outputs": [
    {
     "name": "stdout",
     "output_type": "stream",
     "text": [
      "Model: \"sequential\"\n",
      "_________________________________________________________________\n",
      "Layer (type)                 Output Shape              Param #   \n",
      "=================================================================\n",
      "dense (Dense)                (None, 128)               6784      \n",
      "_________________________________________________________________\n",
      "dense_1 (Dense)              (None, 128)               16512     \n",
      "_________________________________________________________________\n",
      "dense_2 (Dense)              (None, 1)                 129       \n",
      "=================================================================\n",
      "Total params: 23,425\n",
      "Trainable params: 23,425\n",
      "Non-trainable params: 0\n",
      "_________________________________________________________________\n"
     ]
    }
   ],
   "source": [
    "model.summary()"
   ]
  },
  {
   "cell_type": "code",
   "execution_count": 47,
   "metadata": {
    "execution": {
     "iopub.execute_input": "2020-10-03T17:14:24.147149Z",
     "iopub.status.busy": "2020-10-03T17:14:24.146515Z",
     "iopub.status.idle": "2020-10-03T17:14:24.151861Z",
     "shell.execute_reply": "2020-10-03T17:14:24.152267Z"
    },
    "papermill": {
     "duration": 0.048292,
     "end_time": "2020-10-03T17:14:24.152434",
     "exception": false,
     "start_time": "2020-10-03T17:14:24.104142",
     "status": "completed"
    },
    "tags": []
   },
   "outputs": [],
   "source": [
    "model.compile(optimizer='Adam',loss='mse',metrics=['mse'])"
   ]
  },
  {
   "cell_type": "code",
   "execution_count": 48,
   "metadata": {
    "execution": {
     "iopub.execute_input": "2020-10-03T17:14:24.219432Z",
     "iopub.status.busy": "2020-10-03T17:14:24.218834Z",
     "iopub.status.idle": "2020-10-03T17:17:16.547797Z",
     "shell.execute_reply": "2020-10-03T17:17:16.547006Z"
    },
    "papermill": {
     "duration": 172.363758,
     "end_time": "2020-10-03T17:17:16.547967",
     "exception": false,
     "start_time": "2020-10-03T17:14:24.184209",
     "status": "completed"
    },
    "tags": []
   },
   "outputs": [
    {
     "name": "stdout",
     "output_type": "stream",
     "text": [
      "Epoch 1/100\n",
      "1346/1346 [==============================] - 2s 1ms/step - loss: 1533.9901 - mse: 1533.9901 - val_loss: 280.2358 - val_mse: 280.2358\n",
      "Epoch 2/100\n",
      "1346/1346 [==============================] - 2s 1ms/step - loss: 256.1325 - mse: 256.1325 - val_loss: 229.6300 - val_mse: 229.6300\n",
      "Epoch 3/100\n",
      "1346/1346 [==============================] - 2s 1ms/step - loss: 229.5278 - mse: 229.5278 - val_loss: 214.9276 - val_mse: 214.9276\n",
      "Epoch 4/100\n",
      "1346/1346 [==============================] - 2s 1ms/step - loss: 213.0010 - mse: 213.0010 - val_loss: 215.4541 - val_mse: 215.4541\n",
      "Epoch 5/100\n",
      "1346/1346 [==============================] - 2s 1ms/step - loss: 196.9327 - mse: 196.9327 - val_loss: 185.0894 - val_mse: 185.0894\n",
      "Epoch 6/100\n",
      "1346/1346 [==============================] - 2s 1ms/step - loss: 183.2579 - mse: 183.2579 - val_loss: 181.8271 - val_mse: 181.8271\n",
      "Epoch 7/100\n",
      "1346/1346 [==============================] - 2s 1ms/step - loss: 171.1454 - mse: 171.1454 - val_loss: 169.9838 - val_mse: 169.9838\n",
      "Epoch 8/100\n",
      "1346/1346 [==============================] - 2s 1ms/step - loss: 162.0889 - mse: 162.0889 - val_loss: 160.4524 - val_mse: 160.4524\n",
      "Epoch 9/100\n",
      "1346/1346 [==============================] - 2s 1ms/step - loss: 154.4879 - mse: 154.4879 - val_loss: 158.0075 - val_mse: 158.0075\n",
      "Epoch 10/100\n",
      "1346/1346 [==============================] - 2s 1ms/step - loss: 147.6448 - mse: 147.6448 - val_loss: 151.0793 - val_mse: 151.0793\n",
      "Epoch 11/100\n",
      "1346/1346 [==============================] - 2s 1ms/step - loss: 142.4750 - mse: 142.4750 - val_loss: 140.9381 - val_mse: 140.9381\n",
      "Epoch 12/100\n",
      "1346/1346 [==============================] - 2s 1ms/step - loss: 139.1536 - mse: 139.1536 - val_loss: 140.7068 - val_mse: 140.7068\n",
      "Epoch 13/100\n",
      "1346/1346 [==============================] - 2s 1ms/step - loss: 135.0831 - mse: 135.0831 - val_loss: 134.6255 - val_mse: 134.6255\n",
      "Epoch 14/100\n",
      "1346/1346 [==============================] - 2s 1ms/step - loss: 132.4925 - mse: 132.4925 - val_loss: 136.4094 - val_mse: 136.4094\n",
      "Epoch 15/100\n",
      "1346/1346 [==============================] - 2s 1ms/step - loss: 130.2327 - mse: 130.2327 - val_loss: 133.9740 - val_mse: 133.9740\n",
      "Epoch 16/100\n",
      "1346/1346 [==============================] - 2s 1ms/step - loss: 128.4164 - mse: 128.4164 - val_loss: 130.7825 - val_mse: 130.7825\n",
      "Epoch 17/100\n",
      "1346/1346 [==============================] - 2s 1ms/step - loss: 125.8574 - mse: 125.8574 - val_loss: 139.4038 - val_mse: 139.4038\n",
      "Epoch 18/100\n",
      "1346/1346 [==============================] - 2s 1ms/step - loss: 123.1633 - mse: 123.1633 - val_loss: 128.0144 - val_mse: 128.0144\n",
      "Epoch 19/100\n",
      "1346/1346 [==============================] - 2s 1ms/step - loss: 121.6478 - mse: 121.6478 - val_loss: 121.9946 - val_mse: 121.9946\n",
      "Epoch 20/100\n",
      "1346/1346 [==============================] - 2s 1ms/step - loss: 119.9968 - mse: 119.9968 - val_loss: 128.0960 - val_mse: 128.0960\n",
      "Epoch 21/100\n",
      "1346/1346 [==============================] - 2s 1ms/step - loss: 118.4869 - mse: 118.4869 - val_loss: 121.7079 - val_mse: 121.7079\n",
      "Epoch 22/100\n",
      "1346/1346 [==============================] - 2s 1ms/step - loss: 116.9650 - mse: 116.9650 - val_loss: 122.4350 - val_mse: 122.4350\n",
      "Epoch 23/100\n",
      "1346/1346 [==============================] - 2s 1ms/step - loss: 115.6809 - mse: 115.6809 - val_loss: 122.1342 - val_mse: 122.1342\n",
      "Epoch 24/100\n",
      "1346/1346 [==============================] - 2s 1ms/step - loss: 113.6400 - mse: 113.6400 - val_loss: 119.3595 - val_mse: 119.3595\n",
      "Epoch 25/100\n",
      "1346/1346 [==============================] - 2s 1ms/step - loss: 112.4838 - mse: 112.4838 - val_loss: 129.5838 - val_mse: 129.5838\n",
      "Epoch 26/100\n",
      "1346/1346 [==============================] - 2s 1ms/step - loss: 111.6184 - mse: 111.6184 - val_loss: 120.5307 - val_mse: 120.5307\n",
      "Epoch 27/100\n",
      "1346/1346 [==============================] - 2s 1ms/step - loss: 110.4389 - mse: 110.4389 - val_loss: 117.3580 - val_mse: 117.3580\n",
      "Epoch 28/100\n",
      "1346/1346 [==============================] - 2s 1ms/step - loss: 109.0160 - mse: 109.0160 - val_loss: 111.3314 - val_mse: 111.3314\n",
      "Epoch 29/100\n",
      "1346/1346 [==============================] - 2s 1ms/step - loss: 107.6590 - mse: 107.6590 - val_loss: 112.7303 - val_mse: 112.7303\n",
      "Epoch 30/100\n",
      "1346/1346 [==============================] - 2s 1ms/step - loss: 107.4970 - mse: 107.4970 - val_loss: 111.2364 - val_mse: 111.2364\n",
      "Epoch 31/100\n",
      "1346/1346 [==============================] - 2s 1ms/step - loss: 105.8035 - mse: 105.8035 - val_loss: 107.3702 - val_mse: 107.3702\n",
      "Epoch 32/100\n",
      "1346/1346 [==============================] - 2s 1ms/step - loss: 104.9240 - mse: 104.9240 - val_loss: 109.6289 - val_mse: 109.6289\n",
      "Epoch 33/100\n",
      "1346/1346 [==============================] - 2s 1ms/step - loss: 104.9199 - mse: 104.9199 - val_loss: 107.4781 - val_mse: 107.4781\n",
      "Epoch 34/100\n",
      "1346/1346 [==============================] - 2s 1ms/step - loss: 103.2258 - mse: 103.2258 - val_loss: 111.4279 - val_mse: 111.4279\n",
      "Epoch 35/100\n",
      "1346/1346 [==============================] - 2s 1ms/step - loss: 102.7698 - mse: 102.7698 - val_loss: 109.5092 - val_mse: 109.5092\n",
      "Epoch 36/100\n",
      "1346/1346 [==============================] - 2s 1ms/step - loss: 100.9565 - mse: 100.9565 - val_loss: 106.7973 - val_mse: 106.7973\n",
      "Epoch 37/100\n",
      "1346/1346 [==============================] - 2s 1ms/step - loss: 100.7085 - mse: 100.7085 - val_loss: 107.1418 - val_mse: 107.1418\n",
      "Epoch 38/100\n",
      "1346/1346 [==============================] - 2s 1ms/step - loss: 100.1086 - mse: 100.1086 - val_loss: 109.2761 - val_mse: 109.2761\n",
      "Epoch 39/100\n",
      "1346/1346 [==============================] - 2s 1ms/step - loss: 100.3522 - mse: 100.3522 - val_loss: 104.9078 - val_mse: 104.9078\n",
      "Epoch 40/100\n",
      "1346/1346 [==============================] - 2s 1ms/step - loss: 98.8691 - mse: 98.8691 - val_loss: 112.9185 - val_mse: 112.9185\n",
      "Epoch 41/100\n",
      "1346/1346 [==============================] - 2s 1ms/step - loss: 98.0261 - mse: 98.0261 - val_loss: 105.7379 - val_mse: 105.7379\n",
      "Epoch 42/100\n",
      "1346/1346 [==============================] - 2s 1ms/step - loss: 97.2837 - mse: 97.2837 - val_loss: 102.3275 - val_mse: 102.3275\n",
      "Epoch 43/100\n",
      "1346/1346 [==============================] - 2s 1ms/step - loss: 96.4858 - mse: 96.4858 - val_loss: 98.1170 - val_mse: 98.1170\n",
      "Epoch 44/100\n",
      "1346/1346 [==============================] - 2s 1ms/step - loss: 95.4513 - mse: 95.4513 - val_loss: 100.3132 - val_mse: 100.3132\n",
      "Epoch 45/100\n",
      "1346/1346 [==============================] - 2s 1ms/step - loss: 94.9425 - mse: 94.9425 - val_loss: 97.5698 - val_mse: 97.5698\n",
      "Epoch 46/100\n",
      "1346/1346 [==============================] - 2s 1ms/step - loss: 94.3601 - mse: 94.3601 - val_loss: 122.3100 - val_mse: 122.3100\n",
      "Epoch 47/100\n",
      "1346/1346 [==============================] - 2s 1ms/step - loss: 93.9199 - mse: 93.9199 - val_loss: 100.0360 - val_mse: 100.0360\n",
      "Epoch 48/100\n",
      "1346/1346 [==============================] - 2s 1ms/step - loss: 93.8397 - mse: 93.8397 - val_loss: 97.2807 - val_mse: 97.2807\n",
      "Epoch 49/100\n",
      "1346/1346 [==============================] - 2s 1ms/step - loss: 92.4034 - mse: 92.4034 - val_loss: 95.7589 - val_mse: 95.7589\n",
      "Epoch 50/100\n",
      "1346/1346 [==============================] - 2s 1ms/step - loss: 92.3409 - mse: 92.3409 - val_loss: 97.8364 - val_mse: 97.8364\n",
      "Epoch 51/100\n",
      "1346/1346 [==============================] - 2s 1ms/step - loss: 91.4730 - mse: 91.4730 - val_loss: 107.5357 - val_mse: 107.5357\n",
      "Epoch 52/100\n",
      "1346/1346 [==============================] - 2s 1ms/step - loss: 91.0915 - mse: 91.0915 - val_loss: 97.4804 - val_mse: 97.4804\n",
      "Epoch 53/100\n",
      "1346/1346 [==============================] - 2s 1ms/step - loss: 90.6734 - mse: 90.6734 - val_loss: 104.2813 - val_mse: 104.2813\n",
      "Epoch 54/100\n",
      "1346/1346 [==============================] - 2s 1ms/step - loss: 90.6661 - mse: 90.6661 - val_loss: 90.9996 - val_mse: 90.9996\n",
      "Epoch 55/100\n",
      "1346/1346 [==============================] - 2s 1ms/step - loss: 90.7164 - mse: 90.7164 - val_loss: 97.6004 - val_mse: 97.6004\n",
      "Epoch 56/100\n",
      "1346/1346 [==============================] - 2s 1ms/step - loss: 88.9458 - mse: 88.9458 - val_loss: 91.0184 - val_mse: 91.0184\n",
      "Epoch 57/100\n",
      "1346/1346 [==============================] - 2s 1ms/step - loss: 89.0470 - mse: 89.0470 - val_loss: 94.1384 - val_mse: 94.1384\n",
      "Epoch 58/100\n",
      "1346/1346 [==============================] - 2s 1ms/step - loss: 88.3200 - mse: 88.3200 - val_loss: 92.5872 - val_mse: 92.5872\n",
      "Epoch 59/100\n",
      "1346/1346 [==============================] - 2s 1ms/step - loss: 88.3581 - mse: 88.3581 - val_loss: 91.8370 - val_mse: 91.8370\n",
      "Epoch 60/100\n",
      "1346/1346 [==============================] - 2s 1ms/step - loss: 87.7072 - mse: 87.7072 - val_loss: 98.0383 - val_mse: 98.0383\n",
      "Epoch 61/100\n",
      "1346/1346 [==============================] - 2s 1ms/step - loss: 87.7783 - mse: 87.7783 - val_loss: 92.6443 - val_mse: 92.6443\n",
      "Epoch 62/100\n",
      "1346/1346 [==============================] - 2s 1ms/step - loss: 87.1592 - mse: 87.1592 - val_loss: 90.9136 - val_mse: 90.9136\n",
      "Epoch 63/100\n",
      "1346/1346 [==============================] - 2s 1ms/step - loss: 85.8222 - mse: 85.8222 - val_loss: 91.6240 - val_mse: 91.6240\n",
      "Epoch 64/100\n",
      "1346/1346 [==============================] - 2s 1ms/step - loss: 86.0065 - mse: 86.0065 - val_loss: 94.7191 - val_mse: 94.7191\n",
      "Epoch 65/100\n",
      "1346/1346 [==============================] - 2s 1ms/step - loss: 85.6912 - mse: 85.6912 - val_loss: 88.9172 - val_mse: 88.9172\n",
      "Epoch 66/100\n",
      "1346/1346 [==============================] - 2s 1ms/step - loss: 85.2307 - mse: 85.2307 - val_loss: 87.8094 - val_mse: 87.8094\n",
      "Epoch 67/100\n",
      "1346/1346 [==============================] - 2s 1ms/step - loss: 85.0536 - mse: 85.0536 - val_loss: 93.6240 - val_mse: 93.6240\n",
      "Epoch 68/100\n",
      "1346/1346 [==============================] - 2s 1ms/step - loss: 85.1287 - mse: 85.1287 - val_loss: 86.9294 - val_mse: 86.9294\n",
      "Epoch 69/100\n",
      "1346/1346 [==============================] - 2s 1ms/step - loss: 84.8800 - mse: 84.8800 - val_loss: 90.6873 - val_mse: 90.6873\n",
      "Epoch 70/100\n",
      "1346/1346 [==============================] - 2s 1ms/step - loss: 84.4465 - mse: 84.4465 - val_loss: 85.6041 - val_mse: 85.6041\n",
      "Epoch 71/100\n",
      "1346/1346 [==============================] - 2s 1ms/step - loss: 84.2426 - mse: 84.2426 - val_loss: 89.8664 - val_mse: 89.8664\n",
      "Epoch 72/100\n",
      "1346/1346 [==============================] - 2s 1ms/step - loss: 84.0396 - mse: 84.0396 - val_loss: 91.5416 - val_mse: 91.5416\n",
      "Epoch 73/100\n",
      "1346/1346 [==============================] - 2s 1ms/step - loss: 83.3526 - mse: 83.3526 - val_loss: 89.1002 - val_mse: 89.1002\n",
      "Epoch 74/100\n",
      "1346/1346 [==============================] - 2s 1ms/step - loss: 82.6513 - mse: 82.6513 - val_loss: 91.6821 - val_mse: 91.6821\n",
      "Epoch 75/100\n",
      "1346/1346 [==============================] - 2s 1ms/step - loss: 82.8698 - mse: 82.8698 - val_loss: 87.5571 - val_mse: 87.5571\n",
      "Epoch 76/100\n",
      "1346/1346 [==============================] - 2s 1ms/step - loss: 82.4185 - mse: 82.4185 - val_loss: 91.1049 - val_mse: 91.1049\n",
      "Epoch 77/100\n",
      "1346/1346 [==============================] - 2s 1ms/step - loss: 81.9521 - mse: 81.9521 - val_loss: 88.1641 - val_mse: 88.1641\n",
      "Epoch 78/100\n",
      "1346/1346 [==============================] - 2s 1ms/step - loss: 82.1717 - mse: 82.1717 - val_loss: 88.4610 - val_mse: 88.4610\n",
      "Epoch 79/100\n",
      "1346/1346 [==============================] - 2s 1ms/step - loss: 81.8165 - mse: 81.8165 - val_loss: 87.1432 - val_mse: 87.1432\n",
      "Epoch 80/100\n",
      "1346/1346 [==============================] - 2s 1ms/step - loss: 81.5617 - mse: 81.5617 - val_loss: 83.8764 - val_mse: 83.8764\n",
      "Epoch 81/100\n",
      "1346/1346 [==============================] - 2s 1ms/step - loss: 80.6530 - mse: 80.6530 - val_loss: 83.2982 - val_mse: 83.2982\n",
      "Epoch 82/100\n",
      "1346/1346 [==============================] - 2s 1ms/step - loss: 81.2622 - mse: 81.2622 - val_loss: 104.5657 - val_mse: 104.5657\n",
      "Epoch 83/100\n",
      "1346/1346 [==============================] - 2s 1ms/step - loss: 81.8040 - mse: 81.8040 - val_loss: 92.2753 - val_mse: 92.2753\n",
      "Epoch 84/100\n",
      "1346/1346 [==============================] - 2s 1ms/step - loss: 79.3231 - mse: 79.3231 - val_loss: 87.5552 - val_mse: 87.5552\n",
      "Epoch 85/100\n",
      "1346/1346 [==============================] - 2s 1ms/step - loss: 80.0178 - mse: 80.0178 - val_loss: 86.6082 - val_mse: 86.6082\n",
      "Epoch 86/100\n",
      "1346/1346 [==============================] - 2s 1ms/step - loss: 80.0609 - mse: 80.0609 - val_loss: 83.3786 - val_mse: 83.3786\n",
      "Epoch 87/100\n",
      "1346/1346 [==============================] - 2s 1ms/step - loss: 79.3594 - mse: 79.3594 - val_loss: 87.0749 - val_mse: 87.0749\n",
      "Epoch 88/100\n",
      "1346/1346 [==============================] - 2s 1ms/step - loss: 80.0270 - mse: 80.0270 - val_loss: 86.9256 - val_mse: 86.9256\n",
      "Epoch 89/100\n",
      "1346/1346 [==============================] - 2s 1ms/step - loss: 78.4065 - mse: 78.4065 - val_loss: 86.6065 - val_mse: 86.6065\n",
      "Epoch 90/100\n",
      "1346/1346 [==============================] - 2s 1ms/step - loss: 78.2806 - mse: 78.2806 - val_loss: 88.2458 - val_mse: 88.2458\n",
      "Epoch 91/100\n",
      "1346/1346 [==============================] - 2s 1ms/step - loss: 79.8436 - mse: 79.8436 - val_loss: 86.5945 - val_mse: 86.5945\n",
      "Epoch 92/100\n",
      "1346/1346 [==============================] - 2s 1ms/step - loss: 78.0358 - mse: 78.0358 - val_loss: 82.6850 - val_mse: 82.6850\n",
      "Epoch 93/100\n",
      "1346/1346 [==============================] - 2s 1ms/step - loss: 78.0915 - mse: 78.0915 - val_loss: 83.0364 - val_mse: 83.0364\n",
      "Epoch 94/100\n",
      "1346/1346 [==============================] - 2s 1ms/step - loss: 77.8427 - mse: 77.8427 - val_loss: 81.3634 - val_mse: 81.3634\n",
      "Epoch 95/100\n",
      "1346/1346 [==============================] - 2s 1ms/step - loss: 77.7735 - mse: 77.7735 - val_loss: 85.0212 - val_mse: 85.0212\n",
      "Epoch 96/100\n",
      "1346/1346 [==============================] - 2s 1ms/step - loss: 78.4322 - mse: 78.4322 - val_loss: 83.1394 - val_mse: 83.1394\n",
      "Epoch 97/100\n",
      "1346/1346 [==============================] - 2s 1ms/step - loss: 77.7765 - mse: 77.7765 - val_loss: 85.3670 - val_mse: 85.3670\n",
      "Epoch 98/100\n",
      "1346/1346 [==============================] - 2s 1ms/step - loss: 78.0108 - mse: 78.0108 - val_loss: 83.3762 - val_mse: 83.3762\n",
      "Epoch 99/100\n",
      "1346/1346 [==============================] - 2s 1ms/step - loss: 76.6498 - mse: 76.6498 - val_loss: 80.7877 - val_mse: 80.7877\n",
      "Epoch 100/100\n",
      "1346/1346 [==============================] - 2s 1ms/step - loss: 77.3586 - mse: 77.3586 - val_loss: 81.1520 - val_mse: 81.1520\n"
     ]
    }
   ],
   "source": [
    "history = model.fit(X_train,y_train,epochs=100,validation_data=(X_test,y_test))"
   ]
  },
  {
   "cell_type": "code",
   "execution_count": 49,
   "metadata": {
    "execution": {
     "iopub.execute_input": "2020-10-03T17:17:18.006101Z",
     "iopub.status.busy": "2020-10-03T17:17:18.005262Z",
     "iopub.status.idle": "2020-10-03T17:17:18.278555Z",
     "shell.execute_reply": "2020-10-03T17:17:18.277596Z"
    },
    "papermill": {
     "duration": 1.00118,
     "end_time": "2020-10-03T17:17:18.278678",
     "exception": false,
     "start_time": "2020-10-03T17:17:17.277498",
     "status": "completed"
    },
    "tags": []
   },
   "outputs": [],
   "source": [
    " y_pred=model.predict_classes(X_test)"
   ]
  },
  {
   "cell_type": "code",
   "execution_count": 50,
   "metadata": {
    "execution": {
     "iopub.execute_input": "2020-10-03T17:17:19.727842Z",
     "iopub.status.busy": "2020-10-03T17:17:19.726846Z",
     "iopub.status.idle": "2020-10-03T17:17:19.731198Z",
     "shell.execute_reply": "2020-10-03T17:17:19.730765Z"
    },
    "papermill": {
     "duration": 0.733905,
     "end_time": "2020-10-03T17:17:19.731304",
     "exception": false,
     "start_time": "2020-10-03T17:17:18.997399",
     "status": "completed"
    },
    "tags": []
   },
   "outputs": [
    {
     "data": {
      "text/plain": [
       "{'loss': [1533.9901123046875,\n",
       "  256.1325378417969,\n",
       "  229.52784729003906,\n",
       "  213.00099182128906,\n",
       "  196.93267822265625,\n",
       "  183.2578582763672,\n",
       "  171.14544677734375,\n",
       "  162.0889434814453,\n",
       "  154.4879150390625,\n",
       "  147.644775390625,\n",
       "  142.47496032714844,\n",
       "  139.153564453125,\n",
       "  135.08314514160156,\n",
       "  132.49253845214844,\n",
       "  130.2327117919922,\n",
       "  128.41641235351562,\n",
       "  125.85738372802734,\n",
       "  123.16333770751953,\n",
       "  121.64779663085938,\n",
       "  119.99675750732422,\n",
       "  118.48685455322266,\n",
       "  116.96500396728516,\n",
       "  115.68087005615234,\n",
       "  113.64000701904297,\n",
       "  112.4837875366211,\n",
       "  111.61843872070312,\n",
       "  110.43890380859375,\n",
       "  109.01598358154297,\n",
       "  107.65895080566406,\n",
       "  107.49702453613281,\n",
       "  105.80353546142578,\n",
       "  104.92396545410156,\n",
       "  104.91986846923828,\n",
       "  103.2258071899414,\n",
       "  102.76976776123047,\n",
       "  100.95653533935547,\n",
       "  100.70848846435547,\n",
       "  100.108642578125,\n",
       "  100.3521728515625,\n",
       "  98.86907958984375,\n",
       "  98.02613067626953,\n",
       "  97.28365325927734,\n",
       "  96.48583984375,\n",
       "  95.45133209228516,\n",
       "  94.94253540039062,\n",
       "  94.360107421875,\n",
       "  93.91990661621094,\n",
       "  93.8397216796875,\n",
       "  92.40338897705078,\n",
       "  92.34093475341797,\n",
       "  91.47296905517578,\n",
       "  91.09151458740234,\n",
       "  90.67342376708984,\n",
       "  90.66606140136719,\n",
       "  90.71638488769531,\n",
       "  88.94575500488281,\n",
       "  89.04695892333984,\n",
       "  88.32003021240234,\n",
       "  88.35808563232422,\n",
       "  87.70718383789062,\n",
       "  87.7783203125,\n",
       "  87.15924835205078,\n",
       "  85.82215118408203,\n",
       "  86.00650024414062,\n",
       "  85.691162109375,\n",
       "  85.23072814941406,\n",
       "  85.05363464355469,\n",
       "  85.12870025634766,\n",
       "  84.88001251220703,\n",
       "  84.44647979736328,\n",
       "  84.24263000488281,\n",
       "  84.03955078125,\n",
       "  83.35261535644531,\n",
       "  82.65125274658203,\n",
       "  82.86983489990234,\n",
       "  82.41851043701172,\n",
       "  81.95208740234375,\n",
       "  82.17170715332031,\n",
       "  81.8165283203125,\n",
       "  81.56172943115234,\n",
       "  80.65299987792969,\n",
       "  81.26222229003906,\n",
       "  81.80403900146484,\n",
       "  79.32306671142578,\n",
       "  80.0178451538086,\n",
       "  80.06085205078125,\n",
       "  79.35942077636719,\n",
       "  80.02696228027344,\n",
       "  78.4064712524414,\n",
       "  78.2806167602539,\n",
       "  79.84356689453125,\n",
       "  78.03577423095703,\n",
       "  78.09152221679688,\n",
       "  77.84268951416016,\n",
       "  77.77349853515625,\n",
       "  78.4321517944336,\n",
       "  77.77647399902344,\n",
       "  78.01080322265625,\n",
       "  76.64983367919922,\n",
       "  77.35857391357422],\n",
       " 'mse': [1533.9901123046875,\n",
       "  256.1325378417969,\n",
       "  229.52784729003906,\n",
       "  213.00099182128906,\n",
       "  196.93267822265625,\n",
       "  183.2578582763672,\n",
       "  171.14544677734375,\n",
       "  162.0889434814453,\n",
       "  154.4879150390625,\n",
       "  147.644775390625,\n",
       "  142.47496032714844,\n",
       "  139.153564453125,\n",
       "  135.08314514160156,\n",
       "  132.49253845214844,\n",
       "  130.2327117919922,\n",
       "  128.41641235351562,\n",
       "  125.85738372802734,\n",
       "  123.16333770751953,\n",
       "  121.64779663085938,\n",
       "  119.99675750732422,\n",
       "  118.48685455322266,\n",
       "  116.96500396728516,\n",
       "  115.68087005615234,\n",
       "  113.64000701904297,\n",
       "  112.4837875366211,\n",
       "  111.61843872070312,\n",
       "  110.43890380859375,\n",
       "  109.01598358154297,\n",
       "  107.65895080566406,\n",
       "  107.49702453613281,\n",
       "  105.80353546142578,\n",
       "  104.92396545410156,\n",
       "  104.91986846923828,\n",
       "  103.2258071899414,\n",
       "  102.76976776123047,\n",
       "  100.95653533935547,\n",
       "  100.70848846435547,\n",
       "  100.108642578125,\n",
       "  100.3521728515625,\n",
       "  98.86907958984375,\n",
       "  98.02613067626953,\n",
       "  97.28365325927734,\n",
       "  96.48583984375,\n",
       "  95.45133209228516,\n",
       "  94.94253540039062,\n",
       "  94.360107421875,\n",
       "  93.91990661621094,\n",
       "  93.8397216796875,\n",
       "  92.40338897705078,\n",
       "  92.34093475341797,\n",
       "  91.47296905517578,\n",
       "  91.09151458740234,\n",
       "  90.67342376708984,\n",
       "  90.66606140136719,\n",
       "  90.71638488769531,\n",
       "  88.94575500488281,\n",
       "  89.04695892333984,\n",
       "  88.32003021240234,\n",
       "  88.35808563232422,\n",
       "  87.70718383789062,\n",
       "  87.7783203125,\n",
       "  87.15924835205078,\n",
       "  85.82215118408203,\n",
       "  86.00650024414062,\n",
       "  85.691162109375,\n",
       "  85.23072814941406,\n",
       "  85.05363464355469,\n",
       "  85.12870025634766,\n",
       "  84.88001251220703,\n",
       "  84.44647979736328,\n",
       "  84.24263000488281,\n",
       "  84.03955078125,\n",
       "  83.35261535644531,\n",
       "  82.65125274658203,\n",
       "  82.86983489990234,\n",
       "  82.41851043701172,\n",
       "  81.95208740234375,\n",
       "  82.17170715332031,\n",
       "  81.8165283203125,\n",
       "  81.56172943115234,\n",
       "  80.65299987792969,\n",
       "  81.26222229003906,\n",
       "  81.80403900146484,\n",
       "  79.32306671142578,\n",
       "  80.0178451538086,\n",
       "  80.06085205078125,\n",
       "  79.35942077636719,\n",
       "  80.02696228027344,\n",
       "  78.4064712524414,\n",
       "  78.2806167602539,\n",
       "  79.84356689453125,\n",
       "  78.03577423095703,\n",
       "  78.09152221679688,\n",
       "  77.84268951416016,\n",
       "  77.77349853515625,\n",
       "  78.4321517944336,\n",
       "  77.77647399902344,\n",
       "  78.01080322265625,\n",
       "  76.64983367919922,\n",
       "  77.35857391357422],\n",
       " 'val_loss': [280.23583984375,\n",
       "  229.63003540039062,\n",
       "  214.92762756347656,\n",
       "  215.4541015625,\n",
       "  185.08941650390625,\n",
       "  181.8270721435547,\n",
       "  169.9838409423828,\n",
       "  160.45237731933594,\n",
       "  158.00746154785156,\n",
       "  151.07931518554688,\n",
       "  140.93809509277344,\n",
       "  140.70677185058594,\n",
       "  134.62548828125,\n",
       "  136.4093780517578,\n",
       "  133.97396850585938,\n",
       "  130.78250122070312,\n",
       "  139.4037628173828,\n",
       "  128.01437377929688,\n",
       "  121.99464416503906,\n",
       "  128.0960235595703,\n",
       "  121.70793151855469,\n",
       "  122.43497467041016,\n",
       "  122.13423156738281,\n",
       "  119.35954284667969,\n",
       "  129.58383178710938,\n",
       "  120.53070831298828,\n",
       "  117.35799407958984,\n",
       "  111.33137512207031,\n",
       "  112.73030090332031,\n",
       "  111.23639678955078,\n",
       "  107.3702163696289,\n",
       "  109.6289291381836,\n",
       "  107.47811889648438,\n",
       "  111.42790985107422,\n",
       "  109.5091552734375,\n",
       "  106.79731750488281,\n",
       "  107.14183044433594,\n",
       "  109.27606201171875,\n",
       "  104.90776062011719,\n",
       "  112.91849517822266,\n",
       "  105.73794555664062,\n",
       "  102.32746124267578,\n",
       "  98.11695098876953,\n",
       "  100.31315612792969,\n",
       "  97.56980895996094,\n",
       "  122.31000518798828,\n",
       "  100.03604888916016,\n",
       "  97.28069305419922,\n",
       "  95.75885772705078,\n",
       "  97.83639526367188,\n",
       "  107.5357437133789,\n",
       "  97.4803695678711,\n",
       "  104.28126525878906,\n",
       "  90.9996337890625,\n",
       "  97.60042572021484,\n",
       "  91.01844024658203,\n",
       "  94.13839721679688,\n",
       "  92.58717346191406,\n",
       "  91.83704376220703,\n",
       "  98.03829193115234,\n",
       "  92.64427185058594,\n",
       "  90.91355895996094,\n",
       "  91.62397003173828,\n",
       "  94.71908569335938,\n",
       "  88.91718292236328,\n",
       "  87.80941772460938,\n",
       "  93.62397766113281,\n",
       "  86.92941284179688,\n",
       "  90.68731689453125,\n",
       "  85.6041259765625,\n",
       "  89.8663558959961,\n",
       "  91.54163360595703,\n",
       "  89.1001968383789,\n",
       "  91.68209075927734,\n",
       "  87.55711364746094,\n",
       "  91.10493469238281,\n",
       "  88.1640853881836,\n",
       "  88.46101379394531,\n",
       "  87.14317321777344,\n",
       "  83.87642669677734,\n",
       "  83.29821014404297,\n",
       "  104.56568908691406,\n",
       "  92.27534484863281,\n",
       "  87.55518341064453,\n",
       "  86.60821533203125,\n",
       "  83.37861633300781,\n",
       "  87.07490539550781,\n",
       "  86.9255599975586,\n",
       "  86.60646057128906,\n",
       "  88.24583435058594,\n",
       "  86.59453582763672,\n",
       "  82.68496704101562,\n",
       "  83.03643035888672,\n",
       "  81.36343383789062,\n",
       "  85.02117919921875,\n",
       "  83.13935852050781,\n",
       "  85.36700439453125,\n",
       "  83.37620544433594,\n",
       "  80.78771209716797,\n",
       "  81.15204620361328],\n",
       " 'val_mse': [280.23583984375,\n",
       "  229.63003540039062,\n",
       "  214.92762756347656,\n",
       "  215.4541015625,\n",
       "  185.08941650390625,\n",
       "  181.8270721435547,\n",
       "  169.9838409423828,\n",
       "  160.45237731933594,\n",
       "  158.00746154785156,\n",
       "  151.07931518554688,\n",
       "  140.93809509277344,\n",
       "  140.70677185058594,\n",
       "  134.62548828125,\n",
       "  136.4093780517578,\n",
       "  133.97396850585938,\n",
       "  130.78250122070312,\n",
       "  139.4037628173828,\n",
       "  128.01437377929688,\n",
       "  121.99464416503906,\n",
       "  128.0960235595703,\n",
       "  121.70793151855469,\n",
       "  122.43497467041016,\n",
       "  122.13423156738281,\n",
       "  119.35954284667969,\n",
       "  129.58383178710938,\n",
       "  120.53070831298828,\n",
       "  117.35799407958984,\n",
       "  111.33137512207031,\n",
       "  112.73030090332031,\n",
       "  111.23639678955078,\n",
       "  107.3702163696289,\n",
       "  109.6289291381836,\n",
       "  107.47811889648438,\n",
       "  111.42790985107422,\n",
       "  109.5091552734375,\n",
       "  106.79731750488281,\n",
       "  107.14183044433594,\n",
       "  109.27606201171875,\n",
       "  104.90776062011719,\n",
       "  112.91849517822266,\n",
       "  105.73794555664062,\n",
       "  102.32746124267578,\n",
       "  98.11695098876953,\n",
       "  100.31315612792969,\n",
       "  97.56980895996094,\n",
       "  122.31000518798828,\n",
       "  100.03604888916016,\n",
       "  97.28069305419922,\n",
       "  95.75885772705078,\n",
       "  97.83639526367188,\n",
       "  107.5357437133789,\n",
       "  97.4803695678711,\n",
       "  104.28126525878906,\n",
       "  90.9996337890625,\n",
       "  97.60042572021484,\n",
       "  91.01844024658203,\n",
       "  94.13839721679688,\n",
       "  92.58717346191406,\n",
       "  91.83704376220703,\n",
       "  98.03829193115234,\n",
       "  92.64427185058594,\n",
       "  90.91355895996094,\n",
       "  91.62397003173828,\n",
       "  94.71908569335938,\n",
       "  88.91718292236328,\n",
       "  87.80941772460938,\n",
       "  93.62397766113281,\n",
       "  86.92941284179688,\n",
       "  90.68731689453125,\n",
       "  85.6041259765625,\n",
       "  89.8663558959961,\n",
       "  91.54163360595703,\n",
       "  89.1001968383789,\n",
       "  91.68209075927734,\n",
       "  87.55711364746094,\n",
       "  91.10493469238281,\n",
       "  88.1640853881836,\n",
       "  88.46101379394531,\n",
       "  87.14317321777344,\n",
       "  83.87642669677734,\n",
       "  83.29821014404297,\n",
       "  104.56568908691406,\n",
       "  92.27534484863281,\n",
       "  87.55518341064453,\n",
       "  86.60821533203125,\n",
       "  83.37861633300781,\n",
       "  87.07490539550781,\n",
       "  86.9255599975586,\n",
       "  86.60646057128906,\n",
       "  88.24583435058594,\n",
       "  86.59453582763672,\n",
       "  82.68496704101562,\n",
       "  83.03643035888672,\n",
       "  81.36343383789062,\n",
       "  85.02117919921875,\n",
       "  83.13935852050781,\n",
       "  85.36700439453125,\n",
       "  83.37620544433594,\n",
       "  80.78771209716797,\n",
       "  81.15204620361328]}"
      ]
     },
     "execution_count": 50,
     "metadata": {},
     "output_type": "execute_result"
    }
   ],
   "source": [
    "history.history"
   ]
  },
  {
   "cell_type": "code",
   "execution_count": 51,
   "metadata": {
    "execution": {
     "iopub.execute_input": "2020-10-03T17:17:21.260048Z",
     "iopub.status.busy": "2020-10-03T17:17:21.259493Z",
     "iopub.status.idle": "2020-10-03T17:17:21.446163Z",
     "shell.execute_reply": "2020-10-03T17:17:21.446599Z"
    },
    "papermill": {
     "duration": 0.990546,
     "end_time": "2020-10-03T17:17:21.446738",
     "exception": false,
     "start_time": "2020-10-03T17:17:20.456192",
     "status": "completed"
    },
    "tags": []
   },
   "outputs": [
    {
     "data": {
      "text/plain": [
       "[<matplotlib.lines.Line2D at 0x7f5b40615bd0>]"
      ]
     },
     "execution_count": 51,
     "metadata": {},
     "output_type": "execute_result"
    },
    {
     "data": {
      "image/png": "[encoded data removed]",
      "text/plain": [
       "<Figure size 432x288 with 1 Axes>"
      ]
     },
     "metadata": {
      "needs_background": "light"
     },
     "output_type": "display_data"
    }
   ],
   "source": [
    "import matplotlib.pyplot as plt\n",
    "plt.plot(history.history['loss'])\n",
    "plt.plot(history.history['val_loss'])"
   ]
  },
  {
   "cell_type": "code",
   "execution_count": 52,
   "metadata": {
    "execution": {
     "iopub.execute_input": "2020-10-03T17:17:23.020770Z",
     "iopub.status.busy": "2020-10-03T17:17:23.019842Z",
     "iopub.status.idle": "2020-10-03T17:17:23.153471Z",
     "shell.execute_reply": "2020-10-03T17:17:23.152941Z"
    },
    "papermill": {
     "duration": 0.90684,
     "end_time": "2020-10-03T17:17:23.153583",
     "exception": false,
     "start_time": "2020-10-03T17:17:22.246743",
     "status": "completed"
    },
    "tags": []
   },
   "outputs": [
    {
     "data": {
      "text/plain": [
       "[<matplotlib.lines.Line2D at 0x7f5b4049b490>]"
      ]
     },
     "execution_count": 52,
     "metadata": {},
     "output_type": "execute_result"
    },
    {
     "data": {
      "image/png": "[encoded data removed]",
      "text/plain": [
       "<Figure size 432x288 with 1 Axes>"
      ]
     },
     "metadata": {
      "needs_background": "light"
     },
     "output_type": "display_data"
    }
   ],
   "source": [
    "plt.plot(history.history['mse'])\n",
    "plt.plot(history.history['val_mse'])"
   ]
  },
  {
   "cell_type": "code",
   "execution_count": null,
   "metadata": {
    "papermill": {
     "duration": 0.782074,
     "end_time": "2020-10-03T17:17:24.686465",
     "exception": false,
     "start_time": "2020-10-03T17:17:23.904391",
     "status": "completed"
    },
    "tags": []
   },
   "outputs": [],
   "source": []
  }
 ],
 "metadata": {
  "kernelspec": {
   "display_name": "Python 3",
   "language": "python",
   "name": "python3"
  },
  "language_info": {
   "codemirror_mode": {
    "name": "ipython",
    "version": 3
   },
   "file_extension": ".py",
   "mimetype": "text/x-python",
   "name": "python",
   "nbconvert_exporter": "python",
   "pygments_lexer": "ipython3",
   "version": "3.7.6"
  },
  "papermill": {
   "duration": 196.961623,
   "end_time": "2020-10-03T17:17:25.548116",
   "environment_variables": {},
   "exception": null,
   "input_path": "__notebook__.ipynb",
   "output_path": "__notebook__.ipynb",
   "parameters": {},
   "start_time": "2020-10-03T17:14:08.586493",
   "version": "2.1.0"
  }
 },
 "nbformat": 4,
 "nbformat_minor": 4
}
